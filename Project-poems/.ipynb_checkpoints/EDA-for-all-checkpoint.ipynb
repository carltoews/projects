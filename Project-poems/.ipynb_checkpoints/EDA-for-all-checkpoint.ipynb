{
 "cells": [
  {
   "cell_type": "markdown",
   "metadata": {},
   "source": [
    "# Predicting when a poem was written by it's style and word usage.\n",
    "\n",
    "One of the best things about data science is it's versatility. You can do a data science project on just about anything. For this project I decided to see if a machine learning model can identify the era in which a poem was written by it's word choice and frequency. If the era can be predicted, with what kind of accuracy? Also, are some eras more identifiable by style than others. These were the questions I sought to answer with this project. The model was able to differentiate between the different time periods and predict the poem's class with an 81% accuracy overall, with varying degrees of accuracy for specific classes. Going forward, I intend to engineer additional stylistic features related to word choice and frequency to make the model even more robust. \n",
    "#### Getting Data:\n",
    "The first step this project required was data collection. It's really nice to be handed a clean data set for a project, but life doesn't always work that way. Data collection can be quite challenging, but can also be quite fun. After searching fruitlessly for a corpus of poetry in a digital text format, there was no choice but to explore other options. Enter webscraping, a cool, fun, and exciting way to collect data. Webscraping is the process of pulling information from web pages, which often contain all their text in the HTML code which dictates the website's structure. Python, the language that I used for all of this analysis, has some packages that enable efficient webscraping. The code for my webscraper is available here: (scraping notebook)\n",
    "#### Data Cleaning:\n",
    "A large portion of this project involved the data cleaning process. Since I scraped the data from a website, I first had to remove all the HTML tags and ensure that the lines of the poem weren't pushed together, which would cause some word loss. \n",
    "\n",
    "When analyzing text, a lot of preprocessing is necessary. A computer doesn't read text the way we do, so it would treat 'Cookies' and 'cookies' as two different words. Generally, we convert all our entries to lowercase so that the computer can recognize them. I also had to remove all the punctuation and numbers. \n",
    "#### Classes:\n",
    "I settled on three different eras to model, the 18th, 19th, and 20th centuries. These are intuitive boundaries, and I was curious to discover if poetry style is significantly different on each side of these boundaries. \n",
    "#### Feature Creation and Modeling:\n",
    "There are a few different approaches for creating features from text. I used the most common one, a Count Vectorizer. This approach, sometimes called a 'bag of words,' creates a separate feature for each word that appears in the data set. Then, for each poem, it assigns a 1 to words that the poem contains, and a 0 to words that it doesn't. There are more complex approaches, but a simple Count Vectorizer worked best for my data. That makes sense, because a simple count of word usage and frequency may give a better representation of text style than more complex methods that aren't looking for style as much as content. \n",
    "\n",
    "I used a Multinomial Naive Bayes model to distinguish between and predict the classes. This model treats all the features as having a multinomial distribution and assumes independence of all the features. I ran many other models as well, and the Multinomial Naive Bayes consistently performed the best. This model comes with a great feature which returns the log probability of each feature belonging to each class. This gives us some insight into which words are most related to which classes. \n",
    "#### Results:\n",
    "The model performed well, giving an overall accuracy score of 81%, which means the model accurately predicted the era of 81% of the observations it had not before seen. This demonstrates the efficacy of this type of modeling in general, as well as the answers the question central to this project. A computer **CAN** differentiate between different poetry styles and predict the era of poems. The model performed best on the 18th century, correctly identifying 91% of observations. It did not perform as well for the 19th and 20th centuries, with 72% and 80% accuracy scores, respectively. Immediately below is an image showing the percentages of true predictions for each class, and the percentages which were misclassified. Further below I will elaborate on the scores for each class."
   ]
  },
  {
   "cell_type": "markdown",
   "metadata": {},
   "source": [
    "![confusion_matrix](confusion_matrix.png)"
   ]
  },
  {
   "cell_type": "code",
   "execution_count": 1140,
   "metadata": {
    "collapsed": true
   },
   "outputs": [],
   "source": [
    "import numpy as np\n",
    "import pandas as pd\n",
    "import string\n",
    "import re"
   ]
  },
  {
   "cell_type": "code",
   "execution_count": 1225,
   "metadata": {},
   "outputs": [
    {
     "data": {
      "text/html": [
       "<div>\n",
       "<style>\n",
       "    .dataframe thead tr:only-child th {\n",
       "        text-align: right;\n",
       "    }\n",
       "\n",
       "    .dataframe thead th {\n",
       "        text-align: left;\n",
       "    }\n",
       "\n",
       "    .dataframe tbody tr th {\n",
       "        vertical-align: top;\n",
       "    }\n",
       "</style>\n",
       "<table border=\"1\" class=\"dataframe\">\n",
       "  <thead>\n",
       "    <tr style=\"text-align: right;\">\n",
       "      <th></th>\n",
       "      <th>old_index</th>\n",
       "      <th>poem</th>\n",
       "      <th>name</th>\n",
       "    </tr>\n",
       "  </thead>\n",
       "  <tbody>\n",
       "    <tr>\n",
       "      <th>0</th>\n",
       "      <td>0</td>\n",
       "      <td>&lt;div style=\"padding-left:14px;padding-top:20px...</td>\n",
       "      <td>by Rebecca Elson</td>\n",
       "    </tr>\n",
       "    <tr>\n",
       "      <th>1</th>\n",
       "      <td>1</td>\n",
       "      <td>&lt;div style=\"padding-left:14px;padding-top:20px...</td>\n",
       "      <td>by Rebecca Elson</td>\n",
       "    </tr>\n",
       "  </tbody>\n",
       "</table>\n",
       "</div>"
      ],
      "text/plain": [
       "   old_index                                               poem  \\\n",
       "0          0  <div style=\"padding-left:14px;padding-top:20px...   \n",
       "1          1  <div style=\"padding-left:14px;padding-top:20px...   \n",
       "\n",
       "               name  \n",
       "0  by Rebecca Elson  \n",
       "1  by Rebecca Elson  "
      ]
     },
     "execution_count": 1225,
     "metadata": {},
     "output_type": "execute_result"
    }
   ],
   "source": [
    "df = pd.read_csv('all_poets.csv', names=['old_index', 'poem', 'name'], header=0)\n",
    "df.head(2)"
   ]
  },
  {
   "cell_type": "code",
   "execution_count": 1226,
   "metadata": {},
   "outputs": [
    {
     "data": {
      "text/html": [
       "<div>\n",
       "<style>\n",
       "    .dataframe thead tr:only-child th {\n",
       "        text-align: right;\n",
       "    }\n",
       "\n",
       "    .dataframe thead th {\n",
       "        text-align: left;\n",
       "    }\n",
       "\n",
       "    .dataframe tbody tr th {\n",
       "        vertical-align: top;\n",
       "    }\n",
       "</style>\n",
       "<table border=\"1\" class=\"dataframe\">\n",
       "  <thead>\n",
       "    <tr style=\"text-align: right;\">\n",
       "      <th></th>\n",
       "      <th>poem</th>\n",
       "      <th>name</th>\n",
       "    </tr>\n",
       "  </thead>\n",
       "  <tbody>\n",
       "    <tr>\n",
       "      <th>0</th>\n",
       "      <td>&lt;div style=\"padding-left:14px;padding-top:20px...</td>\n",
       "      <td>by Rebecca Elson</td>\n",
       "    </tr>\n",
       "    <tr>\n",
       "      <th>1</th>\n",
       "      <td>&lt;div style=\"padding-left:14px;padding-top:20px...</td>\n",
       "      <td>by Rebecca Elson</td>\n",
       "    </tr>\n",
       "  </tbody>\n",
       "</table>\n",
       "</div>"
      ],
      "text/plain": [
       "                                                poem              name\n",
       "0  <div style=\"padding-left:14px;padding-top:20px...  by Rebecca Elson\n",
       "1  <div style=\"padding-left:14px;padding-top:20px...  by Rebecca Elson"
      ]
     },
     "execution_count": 1226,
     "metadata": {},
     "output_type": "execute_result"
    }
   ],
   "source": [
    "df.drop('old_index', axis=1, inplace=True)\n",
    "df.head(2)"
   ]
  },
  {
   "cell_type": "code",
   "execution_count": 1227,
   "metadata": {},
   "outputs": [
    {
     "data": {
      "text/html": [
       "<div>\n",
       "<style>\n",
       "    .dataframe thead tr:only-child th {\n",
       "        text-align: right;\n",
       "    }\n",
       "\n",
       "    .dataframe thead th {\n",
       "        text-align: left;\n",
       "    }\n",
       "\n",
       "    .dataframe tbody tr th {\n",
       "        vertical-align: top;\n",
       "    }\n",
       "</style>\n",
       "<table border=\"1\" class=\"dataframe\">\n",
       "  <thead>\n",
       "    <tr style=\"text-align: right;\">\n",
       "      <th></th>\n",
       "      <th>poem</th>\n",
       "      <th>name</th>\n",
       "    </tr>\n",
       "  </thead>\n",
       "  <tbody>\n",
       "    <tr>\n",
       "      <th>0</th>\n",
       "      <td>&lt;div style=\"padding-left:14px;padding-top:20px...</td>\n",
       "      <td>Rebecca Elson</td>\n",
       "    </tr>\n",
       "    <tr>\n",
       "      <th>1</th>\n",
       "      <td>&lt;div style=\"padding-left:14px;padding-top:20px...</td>\n",
       "      <td>Rebecca Elson</td>\n",
       "    </tr>\n",
       "    <tr>\n",
       "      <th>2</th>\n",
       "      <td>&lt;div style=\"padding-left:14px;padding-top:20px...</td>\n",
       "      <td>James Thomson</td>\n",
       "    </tr>\n",
       "  </tbody>\n",
       "</table>\n",
       "</div>"
      ],
      "text/plain": [
       "                                                poem           name\n",
       "0  <div style=\"padding-left:14px;padding-top:20px...  Rebecca Elson\n",
       "1  <div style=\"padding-left:14px;padding-top:20px...  Rebecca Elson\n",
       "2  <div style=\"padding-left:14px;padding-top:20px...  James Thomson"
      ]
     },
     "execution_count": 1227,
     "metadata": {},
     "output_type": "execute_result"
    }
   ],
   "source": [
    "df.name = df.name.apply(lambda x: x.replace('by ', ''))\n",
    "df.head(3)"
   ]
  },
  {
   "cell_type": "code",
   "execution_count": 1228,
   "metadata": {},
   "outputs": [
    {
     "data": {
      "text/html": [
       "<div>\n",
       "<style>\n",
       "    .dataframe thead tr:only-child th {\n",
       "        text-align: right;\n",
       "    }\n",
       "\n",
       "    .dataframe thead th {\n",
       "        text-align: left;\n",
       "    }\n",
       "\n",
       "    .dataframe tbody tr th {\n",
       "        vertical-align: top;\n",
       "    }\n",
       "</style>\n",
       "<table border=\"1\" class=\"dataframe\">\n",
       "  <thead>\n",
       "    <tr style=\"text-align: right;\">\n",
       "      <th></th>\n",
       "      <th>poem</th>\n",
       "      <th>name</th>\n",
       "    </tr>\n",
       "  </thead>\n",
       "  <tbody>\n",
       "    <tr>\n",
       "      <th>0</th>\n",
       "      <td>[&lt;div style=\"padding-left:14px;padding-top:20p...</td>\n",
       "      <td>Rebecca Elson</td>\n",
       "    </tr>\n",
       "    <tr>\n",
       "      <th>1</th>\n",
       "      <td>[&lt;div style=\"padding-left:14px;padding-top:20p...</td>\n",
       "      <td>Rebecca Elson</td>\n",
       "    </tr>\n",
       "  </tbody>\n",
       "</table>\n",
       "</div>"
      ],
      "text/plain": [
       "                                                poem           name\n",
       "0  [<div style=\"padding-left:14px;padding-top:20p...  Rebecca Elson\n",
       "1  [<div style=\"padding-left:14px;padding-top:20p...  Rebecca Elson"
      ]
     },
     "execution_count": 1228,
     "metadata": {},
     "output_type": "execute_result"
    }
   ],
   "source": [
    "df.poem = df.poem.apply(lambda x: x.split('<br/>'))\n",
    "df.head(2)"
   ]
  },
  {
   "cell_type": "code",
   "execution_count": 1230,
   "metadata": {},
   "outputs": [
    {
     "data": {
      "text/html": [
       "<div>\n",
       "<style>\n",
       "    .dataframe thead tr:only-child th {\n",
       "        text-align: right;\n",
       "    }\n",
       "\n",
       "    .dataframe thead th {\n",
       "        text-align: left;\n",
       "    }\n",
       "\n",
       "    .dataframe tbody tr th {\n",
       "        vertical-align: top;\n",
       "    }\n",
       "</style>\n",
       "<table border=\"1\" class=\"dataframe\">\n",
       "  <thead>\n",
       "    <tr style=\"text-align: right;\">\n",
       "      <th></th>\n",
       "      <th>poem</th>\n",
       "      <th>name</th>\n",
       "      <th>last_line</th>\n",
       "      <th>first_line</th>\n",
       "    </tr>\n",
       "  </thead>\n",
       "  <tbody>\n",
       "    <tr>\n",
       "      <th>0</th>\n",
       "      <td>[&lt;div style=\"padding-left:14px;padding-top:20p...</td>\n",
       "      <td>Rebecca Elson</td>\n",
       "      <td>And only count things.</td>\n",
       "      <td>We astronomers are nomads,</td>\n",
       "    </tr>\n",
       "    <tr>\n",
       "      <th>1</th>\n",
       "      <td>[&lt;div style=\"padding-left:14px;padding-top:20p...</td>\n",
       "      <td>Rebecca Elson</td>\n",
       "      <td>That leaves the nape hairs leaping.</td>\n",
       "      <td>Having picked the final datum</td>\n",
       "    </tr>\n",
       "  </tbody>\n",
       "</table>\n",
       "</div>"
      ],
      "text/plain": [
       "                                                poem           name  \\\n",
       "0  [<div style=\"padding-left:14px;padding-top:20p...  Rebecca Elson   \n",
       "1  [<div style=\"padding-left:14px;padding-top:20p...  Rebecca Elson   \n",
       "\n",
       "                             last_line                     first_line  \n",
       "0               And only count things.     We astronomers are nomads,  \n",
       "1  That leaves the nape hairs leaping.  Having picked the final datum  "
      ]
     },
     "execution_count": 1230,
     "metadata": {},
     "output_type": "execute_result"
    }
   ],
   "source": [
    "df['last_line'] = [x[-1].split('\\t')[0] for x in df.poem]\n",
    "df['first_line'] = df.poem.apply(lambda x: x[0].split('\\t')[-1])\n",
    "df.head(2)"
   ]
  },
  {
   "cell_type": "code",
   "execution_count": 1231,
   "metadata": {},
   "outputs": [
    {
     "data": {
      "text/html": [
       "<div>\n",
       "<style>\n",
       "    .dataframe thead tr:only-child th {\n",
       "        text-align: right;\n",
       "    }\n",
       "\n",
       "    .dataframe thead th {\n",
       "        text-align: left;\n",
       "    }\n",
       "\n",
       "    .dataframe tbody tr th {\n",
       "        vertical-align: top;\n",
       "    }\n",
       "</style>\n",
       "<table border=\"1\" class=\"dataframe\">\n",
       "  <thead>\n",
       "    <tr style=\"text-align: right;\">\n",
       "      <th></th>\n",
       "      <th>poem</th>\n",
       "      <th>name</th>\n",
       "      <th>last_line</th>\n",
       "      <th>first_line</th>\n",
       "    </tr>\n",
       "  </thead>\n",
       "  <tbody>\n",
       "    <tr>\n",
       "      <th>0</th>\n",
       "      <td>[Merchants, circus people,, All the earth our ...</td>\n",
       "      <td>Rebecca Elson</td>\n",
       "      <td>And only count things.</td>\n",
       "      <td>We astronomers are nomads,</td>\n",
       "    </tr>\n",
       "    <tr>\n",
       "      <th>1</th>\n",
       "      <td>[From the universe, And fixed it in its column...</td>\n",
       "      <td>Rebecca Elson</td>\n",
       "      <td>That leaves the nape hairs leaping.</td>\n",
       "      <td>Having picked the final datum</td>\n",
       "    </tr>\n",
       "  </tbody>\n",
       "</table>\n",
       "</div>"
      ],
      "text/plain": [
       "                                                poem           name  \\\n",
       "0  [Merchants, circus people,, All the earth our ...  Rebecca Elson   \n",
       "1  [From the universe, And fixed it in its column...  Rebecca Elson   \n",
       "\n",
       "                             last_line                     first_line  \n",
       "0               And only count things.     We astronomers are nomads,  \n",
       "1  That leaves the nape hairs leaping.  Having picked the final datum  "
      ]
     },
     "execution_count": 1231,
     "metadata": {},
     "output_type": "execute_result"
    }
   ],
   "source": [
    "df.poem = df.poem.apply(lambda x: x[1:])\n",
    "df.head(2)"
   ]
  },
  {
   "cell_type": "code",
   "execution_count": 1232,
   "metadata": {},
   "outputs": [
    {
     "data": {
      "text/html": [
       "<div>\n",
       "<style>\n",
       "    .dataframe thead tr:only-child th {\n",
       "        text-align: right;\n",
       "    }\n",
       "\n",
       "    .dataframe thead th {\n",
       "        text-align: left;\n",
       "    }\n",
       "\n",
       "    .dataframe tbody tr th {\n",
       "        vertical-align: top;\n",
       "    }\n",
       "</style>\n",
       "<table border=\"1\" class=\"dataframe\">\n",
       "  <thead>\n",
       "    <tr style=\"text-align: right;\">\n",
       "      <th></th>\n",
       "      <th>poem</th>\n",
       "      <th>name</th>\n",
       "      <th>last_line</th>\n",
       "      <th>first_line</th>\n",
       "    </tr>\n",
       "  </thead>\n",
       "  <tbody>\n",
       "    <tr>\n",
       "      <th>0</th>\n",
       "      <td>[Merchants, circus people,, All the earth our ...</td>\n",
       "      <td>Rebecca Elson</td>\n",
       "      <td>And only count things.</td>\n",
       "      <td>We astronomers are nomads,</td>\n",
       "    </tr>\n",
       "    <tr>\n",
       "      <th>1</th>\n",
       "      <td>[From the universe, And fixed it in its column...</td>\n",
       "      <td>Rebecca Elson</td>\n",
       "      <td>That leaves the nape hairs leaping.</td>\n",
       "      <td>Having picked the final datum</td>\n",
       "    </tr>\n",
       "  </tbody>\n",
       "</table>\n",
       "</div>"
      ],
      "text/plain": [
       "                                                poem           name  \\\n",
       "0  [Merchants, circus people,, All the earth our ...  Rebecca Elson   \n",
       "1  [From the universe, And fixed it in its column...  Rebecca Elson   \n",
       "\n",
       "                             last_line                     first_line  \n",
       "0               And only count things.     We astronomers are nomads,  \n",
       "1  That leaves the nape hairs leaping.  Having picked the final datum  "
      ]
     },
     "execution_count": 1232,
     "metadata": {},
     "output_type": "execute_result"
    }
   ],
   "source": [
    "df.poem = df.poem.apply(lambda x: x[0:-1])\n",
    "df.head(2)"
   ]
  },
  {
   "cell_type": "code",
   "execution_count": 1233,
   "metadata": {},
   "outputs": [
    {
     "data": {
      "text/plain": [
       "['From the universe',\n",
       " 'And fixed it in its column,',\n",
       " 'Named the causes of infinity,',\n",
       " 'Performed the calculus',\n",
       " 'Of the imaginary i, it seems',\n",
       " ' ',\n",
       " 'The body aches',\n",
       " 'To come too,',\n",
       " 'To the light,',\n",
       " 'Transmit the grace of gravity,',\n",
       " 'Express in its own algebra',\n",
       " 'The symmetries of awe and fear,',\n",
       " 'The shudder up the spine,',\n",
       " 'The knowing passing like a cool wind']"
      ]
     },
     "execution_count": 1233,
     "metadata": {},
     "output_type": "execute_result"
    }
   ],
   "source": [
    "df.poem[1]"
   ]
  },
  {
   "cell_type": "code",
   "execution_count": 1234,
   "metadata": {
    "collapsed": true
   },
   "outputs": [],
   "source": [
    "df.poem = df.poem.apply(lambda x: ' '.join(x))\n",
    "df['full_poem'] = df.first_line + ' ' + df.poem + ' ' + df.last_line"
   ]
  },
  {
   "cell_type": "code",
   "execution_count": 1235,
   "metadata": {},
   "outputs": [
    {
     "data": {
      "text/plain": [
       "'AS we rush, as we rush in the Train,     The trees and the houses go wheeling back,  But the starry heavens above the plain     Come flying on our track.   All the beautiful stars of the sky,     The silver doves of the forest of Night,  Over the dull earth swarm and fly,     Companions of our flight.   We will rush ever on without fear;     Let the goal be far, the flight be fleet!  For we carry the Heavens with us, dear,     While the Earth slips from our feet!'"
      ]
     },
     "execution_count": 1235,
     "metadata": {},
     "output_type": "execute_result"
    }
   ],
   "source": [
    "df.full_poem[7]"
   ]
  },
  {
   "cell_type": "code",
   "execution_count": 1236,
   "metadata": {
    "collapsed": true
   },
   "outputs": [],
   "source": [
    "df.rename(columns={'poem':'poem_body'}, inplace=True)\n",
    "df.to_csv('poems-cleaned.csv', index=False)"
   ]
  },
  {
   "cell_type": "code",
   "execution_count": 1237,
   "metadata": {},
   "outputs": [
    {
     "data": {
      "text/html": [
       "<div>\n",
       "<style>\n",
       "    .dataframe thead tr:only-child th {\n",
       "        text-align: right;\n",
       "    }\n",
       "\n",
       "    .dataframe thead th {\n",
       "        text-align: left;\n",
       "    }\n",
       "\n",
       "    .dataframe tbody tr th {\n",
       "        vertical-align: top;\n",
       "    }\n",
       "</style>\n",
       "<table border=\"1\" class=\"dataframe\">\n",
       "  <thead>\n",
       "    <tr style=\"text-align: right;\">\n",
       "      <th></th>\n",
       "      <th>name</th>\n",
       "      <th>full_poem</th>\n",
       "    </tr>\n",
       "  </thead>\n",
       "  <tbody>\n",
       "    <tr>\n",
       "      <th>0</th>\n",
       "      <td>Rebecca Elson</td>\n",
       "      <td>We astronomers are nomads, Merchants, circus p...</td>\n",
       "    </tr>\n",
       "    <tr>\n",
       "      <th>1</th>\n",
       "      <td>Rebecca Elson</td>\n",
       "      <td>Having picked the final datum From the univers...</td>\n",
       "    </tr>\n",
       "  </tbody>\n",
       "</table>\n",
       "</div>"
      ],
      "text/plain": [
       "            name                                          full_poem\n",
       "0  Rebecca Elson  We astronomers are nomads, Merchants, circus p...\n",
       "1  Rebecca Elson  Having picked the final datum From the univers..."
      ]
     },
     "execution_count": 1237,
     "metadata": {},
     "output_type": "execute_result"
    }
   ],
   "source": [
    "df.drop(['poem_body', 'last_line', 'first_line'], axis=1, inplace=True)\n",
    "df.head(2)"
   ]
  },
  {
   "cell_type": "markdown",
   "metadata": {},
   "source": [
    "### Bringing in years csv for cleaning."
   ]
  },
  {
   "cell_type": "code",
   "execution_count": 1238,
   "metadata": {},
   "outputs": [
    {
     "data": {
      "text/html": [
       "<div>\n",
       "<style>\n",
       "    .dataframe thead tr:only-child th {\n",
       "        text-align: right;\n",
       "    }\n",
       "\n",
       "    .dataframe thead th {\n",
       "        text-align: left;\n",
       "    }\n",
       "\n",
       "    .dataframe tbody tr th {\n",
       "        vertical-align: top;\n",
       "    }\n",
       "</style>\n",
       "<table border=\"1\" class=\"dataframe\">\n",
       "  <thead>\n",
       "    <tr style=\"text-align: right;\">\n",
       "      <th></th>\n",
       "      <th>name</th>\n",
       "      <th>number</th>\n",
       "      <th>years</th>\n",
       "    </tr>\n",
       "  </thead>\n",
       "  <tbody>\n",
       "    <tr>\n",
       "      <th>0</th>\n",
       "      <td>Maya Angelou</td>\n",
       "      <td>18)</td>\n",
       "      <td>1928 - present)</td>\n",
       "    </tr>\n",
       "    <tr>\n",
       "      <th>1</th>\n",
       "      <td>Margaret Atwood</td>\n",
       "      <td>28)</td>\n",
       "      <td>1939 - present)</td>\n",
       "    </tr>\n",
       "  </tbody>\n",
       "</table>\n",
       "</div>"
      ],
      "text/plain": [
       "               name number            years\n",
       "0     Maya Angelou     18)  1928 - present)\n",
       "1  Margaret Atwood     28)  1939 - present)"
      ]
     },
     "execution_count": 1238,
     "metadata": {},
     "output_type": "execute_result"
    }
   ],
   "source": [
    "years = pd.read_csv('poets_years.csv')\n",
    "years.head(2)"
   ]
  },
  {
   "cell_type": "code",
   "execution_count": 1239,
   "metadata": {},
   "outputs": [
    {
     "data": {
      "text/html": [
       "<div>\n",
       "<style>\n",
       "    .dataframe thead tr:only-child th {\n",
       "        text-align: right;\n",
       "    }\n",
       "\n",
       "    .dataframe thead th {\n",
       "        text-align: left;\n",
       "    }\n",
       "\n",
       "    .dataframe tbody tr th {\n",
       "        vertical-align: top;\n",
       "    }\n",
       "</style>\n",
       "<table border=\"1\" class=\"dataframe\">\n",
       "  <thead>\n",
       "    <tr style=\"text-align: right;\">\n",
       "      <th></th>\n",
       "      <th>name</th>\n",
       "      <th>number</th>\n",
       "      <th>years</th>\n",
       "    </tr>\n",
       "  </thead>\n",
       "  <tbody>\n",
       "    <tr>\n",
       "      <th>0</th>\n",
       "      <td>Maya Angelou</td>\n",
       "      <td>18</td>\n",
       "      <td>1928 - present</td>\n",
       "    </tr>\n",
       "    <tr>\n",
       "      <th>1</th>\n",
       "      <td>Margaret Atwood</td>\n",
       "      <td>28</td>\n",
       "      <td>1939 - present</td>\n",
       "    </tr>\n",
       "  </tbody>\n",
       "</table>\n",
       "</div>"
      ],
      "text/plain": [
       "               name number           years\n",
       "0     Maya Angelou      18  1928 - present\n",
       "1  Margaret Atwood      28  1939 - present"
      ]
     },
     "execution_count": 1239,
     "metadata": {},
     "output_type": "execute_result"
    }
   ],
   "source": [
    "years = years.apply(lambda x: x.str.replace(')', ''))\n",
    "years.head(2)"
   ]
  },
  {
   "cell_type": "code",
   "execution_count": 1241,
   "metadata": {},
   "outputs": [
    {
     "data": {
      "text/html": [
       "<div>\n",
       "<style>\n",
       "    .dataframe thead tr:only-child th {\n",
       "        text-align: right;\n",
       "    }\n",
       "\n",
       "    .dataframe thead th {\n",
       "        text-align: left;\n",
       "    }\n",
       "\n",
       "    .dataframe tbody tr th {\n",
       "        vertical-align: top;\n",
       "    }\n",
       "</style>\n",
       "<table border=\"1\" class=\"dataframe\">\n",
       "  <thead>\n",
       "    <tr style=\"text-align: right;\">\n",
       "      <th></th>\n",
       "      <th>name</th>\n",
       "      <th>number</th>\n",
       "      <th>years</th>\n",
       "      <th>birth</th>\n",
       "      <th>death</th>\n",
       "    </tr>\n",
       "  </thead>\n",
       "  <tbody>\n",
       "    <tr>\n",
       "      <th>0</th>\n",
       "      <td>Maya Angelou</td>\n",
       "      <td>18</td>\n",
       "      <td>1928 - present</td>\n",
       "      <td>1928</td>\n",
       "      <td>present</td>\n",
       "    </tr>\n",
       "    <tr>\n",
       "      <th>1</th>\n",
       "      <td>Margaret Atwood</td>\n",
       "      <td>28</td>\n",
       "      <td>1939 - present</td>\n",
       "      <td>1939</td>\n",
       "      <td>present</td>\n",
       "    </tr>\n",
       "  </tbody>\n",
       "</table>\n",
       "</div>"
      ],
      "text/plain": [
       "               name number           years  birth     death\n",
       "0     Maya Angelou      18  1928 - present  1928    present\n",
       "1  Margaret Atwood      28  1939 - present  1939    present"
      ]
     },
     "execution_count": 1241,
     "metadata": {},
     "output_type": "execute_result"
    }
   ],
   "source": [
    "years['birth'] = years.years.apply(lambda x: x.split('-')[0])\n",
    "years['death'] = years.years.apply(lambda x: x.split('-')[-1])\n",
    "years.head(2)"
   ]
  },
  {
   "cell_type": "code",
   "execution_count": 1242,
   "metadata": {},
   "outputs": [
    {
     "data": {
      "text/html": [
       "<div>\n",
       "<style>\n",
       "    .dataframe thead tr:only-child th {\n",
       "        text-align: right;\n",
       "    }\n",
       "\n",
       "    .dataframe thead th {\n",
       "        text-align: left;\n",
       "    }\n",
       "\n",
       "    .dataframe tbody tr th {\n",
       "        vertical-align: top;\n",
       "    }\n",
       "</style>\n",
       "<table border=\"1\" class=\"dataframe\">\n",
       "  <thead>\n",
       "    <tr style=\"text-align: right;\">\n",
       "      <th></th>\n",
       "      <th>name</th>\n",
       "      <th>number</th>\n",
       "      <th>birth</th>\n",
       "      <th>death</th>\n",
       "    </tr>\n",
       "  </thead>\n",
       "  <tbody>\n",
       "    <tr>\n",
       "      <th>0</th>\n",
       "      <td>Maya Angelou</td>\n",
       "      <td>18</td>\n",
       "      <td>1928</td>\n",
       "      <td>present</td>\n",
       "    </tr>\n",
       "    <tr>\n",
       "      <th>1</th>\n",
       "      <td>Margaret Atwood</td>\n",
       "      <td>28</td>\n",
       "      <td>1939</td>\n",
       "      <td>present</td>\n",
       "    </tr>\n",
       "  </tbody>\n",
       "</table>\n",
       "</div>"
      ],
      "text/plain": [
       "               name number  birth     death\n",
       "0     Maya Angelou      18  1928    present\n",
       "1  Margaret Atwood      28  1939    present"
      ]
     },
     "execution_count": 1242,
     "metadata": {},
     "output_type": "execute_result"
    }
   ],
   "source": [
    "years.drop('years', axis=1, inplace=True)\n",
    "years.head(2)"
   ]
  },
  {
   "cell_type": "code",
   "execution_count": 1243,
   "metadata": {
    "collapsed": true
   },
   "outputs": [],
   "source": [
    "years.to_csv('years-cleaned.csv', index=False)"
   ]
  },
  {
   "cell_type": "code",
   "execution_count": 1244,
   "metadata": {},
   "outputs": [
    {
     "data": {
      "text/html": [
       "<div>\n",
       "<style>\n",
       "    .dataframe thead tr:only-child th {\n",
       "        text-align: right;\n",
       "    }\n",
       "\n",
       "    .dataframe thead th {\n",
       "        text-align: left;\n",
       "    }\n",
       "\n",
       "    .dataframe tbody tr th {\n",
       "        vertical-align: top;\n",
       "    }\n",
       "</style>\n",
       "<table border=\"1\" class=\"dataframe\">\n",
       "  <thead>\n",
       "    <tr style=\"text-align: right;\">\n",
       "      <th></th>\n",
       "      <th>name</th>\n",
       "      <th>number</th>\n",
       "      <th>birth</th>\n",
       "      <th>death</th>\n",
       "    </tr>\n",
       "  </thead>\n",
       "  <tbody>\n",
       "    <tr>\n",
       "      <th>0</th>\n",
       "      <td>Maya Angelou</td>\n",
       "      <td>18</td>\n",
       "      <td>1928</td>\n",
       "      <td>present</td>\n",
       "    </tr>\n",
       "    <tr>\n",
       "      <th>1</th>\n",
       "      <td>Margaret Atwood</td>\n",
       "      <td>28</td>\n",
       "      <td>1939</td>\n",
       "      <td>present</td>\n",
       "    </tr>\n",
       "    <tr>\n",
       "      <th>2</th>\n",
       "      <td>Matthew Arnold</td>\n",
       "      <td>45</td>\n",
       "      <td>1822</td>\n",
       "      <td>1888</td>\n",
       "    </tr>\n",
       "  </tbody>\n",
       "</table>\n",
       "</div>"
      ],
      "text/plain": [
       "               name number  birth     death\n",
       "0     Maya Angelou      18  1928    present\n",
       "1  Margaret Atwood      28  1939    present\n",
       "2   Matthew Arnold      45  1822       1888"
      ]
     },
     "execution_count": 1244,
     "metadata": {},
     "output_type": "execute_result"
    }
   ],
   "source": [
    "years.head(3)"
   ]
  },
  {
   "cell_type": "code",
   "execution_count": 1245,
   "metadata": {},
   "outputs": [
    {
     "data": {
      "text/html": [
       "<div>\n",
       "<style>\n",
       "    .dataframe thead tr:only-child th {\n",
       "        text-align: right;\n",
       "    }\n",
       "\n",
       "    .dataframe thead th {\n",
       "        text-align: left;\n",
       "    }\n",
       "\n",
       "    .dataframe tbody tr th {\n",
       "        vertical-align: top;\n",
       "    }\n",
       "</style>\n",
       "<table border=\"1\" class=\"dataframe\">\n",
       "  <thead>\n",
       "    <tr style=\"text-align: right;\">\n",
       "      <th></th>\n",
       "      <th>name</th>\n",
       "      <th>number</th>\n",
       "      <th>birth</th>\n",
       "      <th>death</th>\n",
       "    </tr>\n",
       "  </thead>\n",
       "  <tbody>\n",
       "    <tr>\n",
       "      <th>0</th>\n",
       "      <td>Maya Angelou</td>\n",
       "      <td>18</td>\n",
       "      <td>1928</td>\n",
       "      <td>present</td>\n",
       "    </tr>\n",
       "  </tbody>\n",
       "</table>\n",
       "</div>"
      ],
      "text/plain": [
       "           name number  birth     death\n",
       "0  Maya Angelou     18  1928    present"
      ]
     },
     "execution_count": 1245,
     "metadata": {},
     "output_type": "execute_result"
    }
   ],
   "source": [
    "years.name = years.name.apply(lambda x: x.strip())\n",
    "years.head(1)"
   ]
  },
  {
   "cell_type": "code",
   "execution_count": 1178,
   "metadata": {},
   "outputs": [
    {
     "data": {
      "text/html": [
       "<div>\n",
       "<style>\n",
       "    .dataframe thead tr:only-child th {\n",
       "        text-align: right;\n",
       "    }\n",
       "\n",
       "    .dataframe thead th {\n",
       "        text-align: left;\n",
       "    }\n",
       "\n",
       "    .dataframe tbody tr th {\n",
       "        vertical-align: top;\n",
       "    }\n",
       "</style>\n",
       "<table border=\"1\" class=\"dataframe\">\n",
       "  <thead>\n",
       "    <tr style=\"text-align: right;\">\n",
       "      <th></th>\n",
       "      <th>name</th>\n",
       "      <th>number</th>\n",
       "      <th>birth</th>\n",
       "      <th>death</th>\n",
       "    </tr>\n",
       "  </thead>\n",
       "  <tbody>\n",
       "    <tr>\n",
       "      <th>425</th>\n",
       "      <td>Vlanes</td>\n",
       "      <td>Vladislav Nekliaev</td>\n",
       "      <td>13</td>\n",
       "      <td>13</td>\n",
       "    </tr>\n",
       "  </tbody>\n",
       "</table>\n",
       "</div>"
      ],
      "text/plain": [
       "       name               number birth death\n",
       "425  Vlanes  Vladislav Nekliaev     13    13"
      ]
     },
     "execution_count": 1178,
     "metadata": {},
     "output_type": "execute_result"
    }
   ],
   "source": [
    "years[years.name == 'Vlanes']"
   ]
  },
  {
   "cell_type": "code",
   "execution_count": 1246,
   "metadata": {},
   "outputs": [
    {
     "data": {
      "text/plain": [
       "name        Vlanes\n",
       "number          13\n",
       "birth         1969\n",
       "death      present\n",
       "Name: 425, dtype: object"
      ]
     },
     "execution_count": 1246,
     "metadata": {},
     "output_type": "execute_result"
    }
   ],
   "source": [
    "years.iloc[425] = ['Vlanes', 13, '1969', ' present'] \n",
    "years.iloc[425]"
   ]
  },
  {
   "cell_type": "code",
   "execution_count": 1247,
   "metadata": {
    "collapsed": true
   },
   "outputs": [],
   "source": [
    "years.number = years.number.astype(int)\n",
    "years.birth = years.birth.astype(int)\n",
    "years.death = [' 2016' if x == ' present' else x for x in years.death]\n",
    "years.death = years.death.astype(int)"
   ]
  },
  {
   "cell_type": "code",
   "execution_count": 1248,
   "metadata": {},
   "outputs": [
    {
     "data": {
      "text/plain": [
       "name      object\n",
       "number     int64\n",
       "birth      int64\n",
       "death      int64\n",
       "dtype: object"
      ]
     },
     "execution_count": 1248,
     "metadata": {},
     "output_type": "execute_result"
    }
   ],
   "source": [
    "years.dtypes"
   ]
  },
  {
   "cell_type": "code",
   "execution_count": 1249,
   "metadata": {
    "collapsed": true
   },
   "outputs": [],
   "source": [
    "full_df = df.merge(years, on='name')\n",
    "full_df.to_csv('full_df.csv', index=False)"
   ]
  },
  {
   "cell_type": "code",
   "execution_count": 1250,
   "metadata": {
    "scrolled": true
   },
   "outputs": [
    {
     "data": {
      "text/html": [
       "<div>\n",
       "<style>\n",
       "    .dataframe thead tr:only-child th {\n",
       "        text-align: right;\n",
       "    }\n",
       "\n",
       "    .dataframe thead th {\n",
       "        text-align: left;\n",
       "    }\n",
       "\n",
       "    .dataframe tbody tr th {\n",
       "        vertical-align: top;\n",
       "    }\n",
       "</style>\n",
       "<table border=\"1\" class=\"dataframe\">\n",
       "  <thead>\n",
       "    <tr style=\"text-align: right;\">\n",
       "      <th></th>\n",
       "      <th>name</th>\n",
       "      <th>poem</th>\n",
       "      <th>num_poems</th>\n",
       "      <th>birth</th>\n",
       "      <th>death</th>\n",
       "    </tr>\n",
       "  </thead>\n",
       "  <tbody>\n",
       "    <tr>\n",
       "      <th>0</th>\n",
       "      <td>Rebecca Elson</td>\n",
       "      <td>We astronomers are nomads, Merchants, circus p...</td>\n",
       "      <td>2</td>\n",
       "      <td>1960</td>\n",
       "      <td>1999</td>\n",
       "    </tr>\n",
       "    <tr>\n",
       "      <th>1</th>\n",
       "      <td>Rebecca Elson</td>\n",
       "      <td>Having picked the final datum From the univers...</td>\n",
       "      <td>2</td>\n",
       "      <td>1960</td>\n",
       "      <td>1999</td>\n",
       "    </tr>\n",
       "  </tbody>\n",
       "</table>\n",
       "</div>"
      ],
      "text/plain": [
       "            name                                               poem  \\\n",
       "0  Rebecca Elson  We astronomers are nomads, Merchants, circus p...   \n",
       "1  Rebecca Elson  Having picked the final datum From the univers...   \n",
       "\n",
       "   num_poems  birth  death  \n",
       "0          2   1960   1999  \n",
       "1          2   1960   1999  "
      ]
     },
     "execution_count": 1250,
     "metadata": {},
     "output_type": "execute_result"
    }
   ],
   "source": [
    "df = pd.read_csv('full_df.csv', names=['name', 'poem', 'num_poems', 'birth', 'death'], header=0)\n",
    "df.head(2)"
   ]
  },
  {
   "cell_type": "code",
   "execution_count": 1252,
   "metadata": {},
   "outputs": [
    {
     "data": {
      "text/plain": [
       "name         0\n",
       "poem         0\n",
       "num_poems    0\n",
       "birth        0\n",
       "death        0\n",
       "dtype: int64"
      ]
     },
     "execution_count": 1252,
     "metadata": {},
     "output_type": "execute_result"
    }
   ],
   "source": [
    "df.isnull().sum()"
   ]
  },
  {
   "cell_type": "code",
   "execution_count": 1253,
   "metadata": {},
   "outputs": [
    {
     "data": {
      "text/plain": [
       "name         object\n",
       "poem         object\n",
       "num_poems     int64\n",
       "birth         int64\n",
       "death         int64\n",
       "dtype: object"
      ]
     },
     "execution_count": 1253,
     "metadata": {},
     "output_type": "execute_result"
    }
   ],
   "source": [
    "df.dtypes"
   ]
  },
  {
   "cell_type": "code",
   "execution_count": 1254,
   "metadata": {},
   "outputs": [
    {
     "data": {
      "text/plain": [
       "(34330, 5)"
      ]
     },
     "execution_count": 1254,
     "metadata": {},
     "output_type": "execute_result"
    }
   ],
   "source": [
    "df.shape"
   ]
  },
  {
   "cell_type": "code",
   "execution_count": 1255,
   "metadata": {
    "collapsed": true
   },
   "outputs": [],
   "source": [
    "df = df[df.death > 1700]"
   ]
  },
  {
   "cell_type": "code",
   "execution_count": 1256,
   "metadata": {},
   "outputs": [
    {
     "data": {
      "text/plain": [
       "(32259, 5)"
      ]
     },
     "execution_count": 1256,
     "metadata": {},
     "output_type": "execute_result"
    }
   ],
   "source": [
    "df.shape"
   ]
  },
  {
   "cell_type": "code",
   "execution_count": 1257,
   "metadata": {
    "scrolled": true
   },
   "outputs": [
    {
     "data": {
      "text/plain": [
       "Raymond A. Foss                    12138\n",
       "Emily Dickinson                     1779\n",
       "Robert William Service               854\n",
       "Robert Burns                         579\n",
       "Isaac Watts                          458\n",
       "Carl Sandburg                        440\n",
       "William Butler Yeats                 354\n",
       "Rudyard Kipling                      341\n",
       "Walt Whitman                         329\n",
       "Johann Wolfgang von Goethe           283\n",
       "Edgar Lee Masters                    251\n",
       "Andrew Barton Paterson               217\n",
       "Thomas Hardy                         217\n",
       "Robert Louis Stevenson               209\n",
       "William Topaz McGonagall             200\n",
       "Ivan Donn Carswell                   181\n",
       "Dorothy Parker                       181\n",
       "Robert Frost                         180\n",
       "Edwin Arlington Robinson             176\n",
       "George William Russell               173\n",
       "Anne Sexton                          172\n",
       "Vachel Lindsay                       168\n",
       "Edna St. Vincent Millay              165\n",
       "Ella Wheeler Wilcox                  164\n",
       "Rabindranath Tagore                  153\n",
       "Lord Alfred Tennyson                 153\n",
       "E. E. Cummings                       153\n",
       "Amy Lowell                           152\n",
       "Friedrich von Schiller               151\n",
       "John Berryman                        150\n",
       "                                   ...  \n",
       "Diane Wakoski                          1\n",
       "John Frederick Nims                    1\n",
       "Mark Hillringhouse                     1\n",
       "Annie Dillard                          1\n",
       "Jupiter Hammon                         1\n",
       "Katherine Anne Porter                  1\n",
       "Vita Sackville-West                    1\n",
       "Nancy Willard                          1\n",
       "Ernest Lawrence Thayer                 1\n",
       "Daisy Fried                            1\n",
       "Arthur Rimbaud                         1\n",
       "Jessie Redmon Fauset                   1\n",
       "James Merrill                          1\n",
       "Jiri Mordecai Langer                   1\n",
       "John Bodenham                          1\n",
       "Octavio Paz                            1\n",
       "Eleanor Wilner                         1\n",
       "Gary Soto                              1\n",
       "Jim Carroll                            1\n",
       "Joseph Warton                          1\n",
       "Kimiko Hahn                            1\n",
       "Joseph Freiherr Von Eichendorff        1\n",
       "Patricia Goedicke                      1\n",
       "Russell Hughes Ragsdale                1\n",
       "Michael Lally                          1\n",
       "Shawn McAllister                       1\n",
       "George Bradley                         1\n",
       "Vanessa Perkins                        1\n",
       "Ho Xuan Huong                          1\n",
       "John Ruskin                            1\n",
       "Name: name, Length: 587, dtype: int64"
      ]
     },
     "execution_count": 1257,
     "metadata": {},
     "output_type": "execute_result"
    }
   ],
   "source": [
    "df.name.value_counts()"
   ]
  },
  {
   "cell_type": "code",
   "execution_count": 1258,
   "metadata": {},
   "outputs": [
    {
     "data": {
      "text/plain": [
       "20121"
      ]
     },
     "execution_count": 1258,
     "metadata": {},
     "output_type": "execute_result"
    }
   ],
   "source": [
    "df = df[df.name != 'Raymond A. Foss']\n",
    "len(df)"
   ]
  },
  {
   "cell_type": "code",
   "execution_count": 1259,
   "metadata": {},
   "outputs": [
    {
     "data": {
      "text/html": [
       "<div>\n",
       "<style>\n",
       "    .dataframe thead tr:only-child th {\n",
       "        text-align: right;\n",
       "    }\n",
       "\n",
       "    .dataframe thead th {\n",
       "        text-align: left;\n",
       "    }\n",
       "\n",
       "    .dataframe tbody tr th {\n",
       "        vertical-align: top;\n",
       "    }\n",
       "</style>\n",
       "<table border=\"1\" class=\"dataframe\">\n",
       "  <thead>\n",
       "    <tr style=\"text-align: right;\">\n",
       "      <th></th>\n",
       "      <th>name</th>\n",
       "      <th>poem</th>\n",
       "      <th>num_poems</th>\n",
       "      <th>birth</th>\n",
       "      <th>death</th>\n",
       "    </tr>\n",
       "  </thead>\n",
       "  <tbody>\n",
       "    <tr>\n",
       "      <th>20116</th>\n",
       "      <td>Derek Walcott</td>\n",
       "      <td>After that hot gospeller has levelled all but ...</td>\n",
       "      <td>21</td>\n",
       "      <td>1930</td>\n",
       "      <td>2016</td>\n",
       "    </tr>\n",
       "    <tr>\n",
       "      <th>20117</th>\n",
       "      <td>Derek Walcott</td>\n",
       "      <td>A wind is ruffling the tawny pelt Of Africa, K...</td>\n",
       "      <td>21</td>\n",
       "      <td>1930</td>\n",
       "      <td>2016</td>\n",
       "    </tr>\n",
       "    <tr>\n",
       "      <th>20118</th>\n",
       "      <td>Derek Walcott</td>\n",
       "      <td>1  Adios, Carenage  In idle August, while the ...</td>\n",
       "      <td>21</td>\n",
       "      <td>1930</td>\n",
       "      <td>2016</td>\n",
       "    </tr>\n",
       "    <tr>\n",
       "      <th>20119</th>\n",
       "      <td>Derek Walcott</td>\n",
       "      <td>The time will come  when, with elation  you wi...</td>\n",
       "      <td>21</td>\n",
       "      <td>1930</td>\n",
       "      <td>2016</td>\n",
       "    </tr>\n",
       "    <tr>\n",
       "      <th>20120</th>\n",
       "      <td>Derek Walcott</td>\n",
       "      <td>There were still shards of an ancient pastoral...</td>\n",
       "      <td>21</td>\n",
       "      <td>1930</td>\n",
       "      <td>2016</td>\n",
       "    </tr>\n",
       "  </tbody>\n",
       "</table>\n",
       "</div>"
      ],
      "text/plain": [
       "                name                                               poem  \\\n",
       "20116  Derek Walcott  After that hot gospeller has levelled all but ...   \n",
       "20117  Derek Walcott  A wind is ruffling the tawny pelt Of Africa, K...   \n",
       "20118  Derek Walcott  1  Adios, Carenage  In idle August, while the ...   \n",
       "20119  Derek Walcott  The time will come  when, with elation  you wi...   \n",
       "20120  Derek Walcott  There were still shards of an ancient pastoral...   \n",
       "\n",
       "       num_poems  birth  death  \n",
       "20116         21   1930   2016  \n",
       "20117         21   1930   2016  \n",
       "20118         21   1930   2016  \n",
       "20119         21   1930   2016  \n",
       "20120         21   1930   2016  "
      ]
     },
     "execution_count": 1259,
     "metadata": {},
     "output_type": "execute_result"
    }
   ],
   "source": [
    "df.reset_index(drop=True, inplace=True)\n",
    "df.tail()"
   ]
  },
  {
   "cell_type": "code",
   "execution_count": 1260,
   "metadata": {
    "collapsed": true
   },
   "outputs": [],
   "source": [
    "for i in range(0, len(df)):\n",
    "    if '<div' in df.poem.iloc[i]:\n",
    "        df.set_value(i, 1, np.nan, takeable=True)\n"
   ]
  },
  {
   "cell_type": "code",
   "execution_count": 1261,
   "metadata": {},
   "outputs": [
    {
     "name": "stdout",
     "output_type": "stream",
     "text": [
      "0\n"
     ]
    }
   ],
   "source": [
    "count = 0\n",
    "for poem in df.poem:\n",
    "    if '<div' in df.poem:\n",
    "        count +=1\n",
    "print count"
   ]
  },
  {
   "cell_type": "code",
   "execution_count": 1262,
   "metadata": {},
   "outputs": [
    {
     "data": {
      "text/plain": [
       "name           0\n",
       "poem         377\n",
       "num_poems      0\n",
       "birth          0\n",
       "death          0\n",
       "dtype: int64"
      ]
     },
     "execution_count": 1262,
     "metadata": {},
     "output_type": "execute_result"
    }
   ],
   "source": [
    "df.isnull().sum()"
   ]
  },
  {
   "cell_type": "code",
   "execution_count": 1263,
   "metadata": {},
   "outputs": [
    {
     "data": {
      "text/html": [
       "<div>\n",
       "<style>\n",
       "    .dataframe thead tr:only-child th {\n",
       "        text-align: right;\n",
       "    }\n",
       "\n",
       "    .dataframe thead th {\n",
       "        text-align: left;\n",
       "    }\n",
       "\n",
       "    .dataframe tbody tr th {\n",
       "        vertical-align: top;\n",
       "    }\n",
       "</style>\n",
       "<table border=\"1\" class=\"dataframe\">\n",
       "  <thead>\n",
       "    <tr style=\"text-align: right;\">\n",
       "      <th></th>\n",
       "      <th>name</th>\n",
       "      <th>poem</th>\n",
       "      <th>num_poems</th>\n",
       "      <th>birth</th>\n",
       "      <th>death</th>\n",
       "    </tr>\n",
       "  </thead>\n",
       "  <tbody>\n",
       "    <tr>\n",
       "      <th>2394</th>\n",
       "      <td>Adrienne Rich</td>\n",
       "      <td>NaN</td>\n",
       "      <td>31</td>\n",
       "      <td>1929</td>\n",
       "      <td>2016</td>\n",
       "    </tr>\n",
       "    <tr>\n",
       "      <th>2395</th>\n",
       "      <td>Adrienne Rich</td>\n",
       "      <td>NaN</td>\n",
       "      <td>31</td>\n",
       "      <td>1929</td>\n",
       "      <td>2016</td>\n",
       "    </tr>\n",
       "  </tbody>\n",
       "</table>\n",
       "</div>"
      ],
      "text/plain": [
       "               name poem  num_poems  birth  death\n",
       "2394  Adrienne Rich  NaN         31   1929   2016\n",
       "2395  Adrienne Rich  NaN         31   1929   2016"
      ]
     },
     "execution_count": 1263,
     "metadata": {},
     "output_type": "execute_result"
    }
   ],
   "source": [
    "df[df.isnull().any(axis=1)].head(2)"
   ]
  },
  {
   "cell_type": "code",
   "execution_count": 1264,
   "metadata": {},
   "outputs": [
    {
     "data": {
      "text/plain": [
       "name         0\n",
       "poem         0\n",
       "num_poems    0\n",
       "birth        0\n",
       "death        0\n",
       "dtype: int64"
      ]
     },
     "execution_count": 1264,
     "metadata": {},
     "output_type": "execute_result"
    }
   ],
   "source": [
    "df.dropna(inplace=True)\n",
    "df.isnull().sum()"
   ]
  },
  {
   "cell_type": "code",
   "execution_count": 1265,
   "metadata": {},
   "outputs": [
    {
     "data": {
      "text/plain": [
       "(19744, 5)"
      ]
     },
     "execution_count": 1265,
     "metadata": {},
     "output_type": "execute_result"
    }
   ],
   "source": [
    "df.shape"
   ]
  },
  {
   "cell_type": "code",
   "execution_count": 1266,
   "metadata": {},
   "outputs": [
    {
     "data": {
      "text/html": [
       "<div>\n",
       "<style>\n",
       "    .dataframe thead tr:only-child th {\n",
       "        text-align: right;\n",
       "    }\n",
       "\n",
       "    .dataframe thead th {\n",
       "        text-align: left;\n",
       "    }\n",
       "\n",
       "    .dataframe tbody tr th {\n",
       "        vertical-align: top;\n",
       "    }\n",
       "</style>\n",
       "<table border=\"1\" class=\"dataframe\">\n",
       "  <thead>\n",
       "    <tr style=\"text-align: right;\">\n",
       "      <th></th>\n",
       "      <th>name</th>\n",
       "      <th>poem</th>\n",
       "      <th>num_poems</th>\n",
       "      <th>birth</th>\n",
       "      <th>death</th>\n",
       "    </tr>\n",
       "  </thead>\n",
       "  <tbody>\n",
       "    <tr>\n",
       "      <th>0</th>\n",
       "      <td>Rebecca Elson</td>\n",
       "      <td>We astronomers are nomads, Merchants, circus p...</td>\n",
       "      <td>2</td>\n",
       "      <td>1960</td>\n",
       "      <td>1999</td>\n",
       "    </tr>\n",
       "    <tr>\n",
       "      <th>1</th>\n",
       "      <td>Rebecca Elson</td>\n",
       "      <td>Having picked the final datum From the univers...</td>\n",
       "      <td>2</td>\n",
       "      <td>1960</td>\n",
       "      <td>1999</td>\n",
       "    </tr>\n",
       "  </tbody>\n",
       "</table>\n",
       "</div>"
      ],
      "text/plain": [
       "            name                                               poem  \\\n",
       "0  Rebecca Elson  We astronomers are nomads, Merchants, circus p...   \n",
       "1  Rebecca Elson  Having picked the final datum From the univers...   \n",
       "\n",
       "   num_poems  birth  death  \n",
       "0          2   1960   1999  \n",
       "1          2   1960   1999  "
      ]
     },
     "execution_count": 1266,
     "metadata": {},
     "output_type": "execute_result"
    }
   ],
   "source": [
    "df.head(2)"
   ]
  },
  {
   "cell_type": "code",
   "execution_count": 1204,
   "metadata": {},
   "outputs": [
    {
     "data": {
      "text/html": [
       "<div>\n",
       "<style>\n",
       "    .dataframe thead tr:only-child th {\n",
       "        text-align: right;\n",
       "    }\n",
       "\n",
       "    .dataframe thead th {\n",
       "        text-align: left;\n",
       "    }\n",
       "\n",
       "    .dataframe tbody tr th {\n",
       "        vertical-align: top;\n",
       "    }\n",
       "</style>\n",
       "<table border=\"1\" class=\"dataframe\">\n",
       "  <thead>\n",
       "    <tr style=\"text-align: right;\">\n",
       "      <th></th>\n",
       "      <th>name</th>\n",
       "      <th>poem</th>\n",
       "      <th>num_poems</th>\n",
       "      <th>birth</th>\n",
       "      <th>death</th>\n",
       "    </tr>\n",
       "  </thead>\n",
       "  <tbody>\n",
       "    <tr>\n",
       "      <th>0</th>\n",
       "      <td>Rebecca Elson</td>\n",
       "      <td>we astronomers are nomads, merchants, circus p...</td>\n",
       "      <td>2</td>\n",
       "      <td>1960</td>\n",
       "      <td>1999</td>\n",
       "    </tr>\n",
       "    <tr>\n",
       "      <th>1</th>\n",
       "      <td>Rebecca Elson</td>\n",
       "      <td>having picked the final datum from the univers...</td>\n",
       "      <td>2</td>\n",
       "      <td>1960</td>\n",
       "      <td>1999</td>\n",
       "    </tr>\n",
       "    <tr>\n",
       "      <th>2</th>\n",
       "      <td>James Thomson</td>\n",
       "      <td>shall the great soul of newton quit this earth...</td>\n",
       "      <td>10</td>\n",
       "      <td>1700</td>\n",
       "      <td>1748</td>\n",
       "    </tr>\n",
       "    <tr>\n",
       "      <th>3</th>\n",
       "      <td>James Thomson</td>\n",
       "      <td>see! winter comes, to rule the varied year,  s...</td>\n",
       "      <td>10</td>\n",
       "      <td>1700</td>\n",
       "      <td>1748</td>\n",
       "    </tr>\n",
       "    <tr>\n",
       "      <th>4</th>\n",
       "      <td>James Thomson</td>\n",
       "      <td>1. fareweel, ye bughts, an' all your ewes,  an...</td>\n",
       "      <td>10</td>\n",
       "      <td>1700</td>\n",
       "      <td>1748</td>\n",
       "    </tr>\n",
       "  </tbody>\n",
       "</table>\n",
       "</div>"
      ],
      "text/plain": [
       "            name                                               poem  \\\n",
       "0  Rebecca Elson  we astronomers are nomads, merchants, circus p...   \n",
       "1  Rebecca Elson  having picked the final datum from the univers...   \n",
       "2  James Thomson  shall the great soul of newton quit this earth...   \n",
       "3  James Thomson  see! winter comes, to rule the varied year,  s...   \n",
       "4  James Thomson  1. fareweel, ye bughts, an' all your ewes,  an...   \n",
       "\n",
       "   num_poems  birth  death  \n",
       "0          2   1960   1999  \n",
       "1          2   1960   1999  \n",
       "2         10   1700   1748  \n",
       "3         10   1700   1748  \n",
       "4         10   1700   1748  "
      ]
     },
     "execution_count": 1204,
     "metadata": {},
     "output_type": "execute_result"
    }
   ],
   "source": [
    "df.poem = df.poem.apply(lambda x: x.lower())\n",
    "df.head(# Predicting when a poem was written by it's style and word usage.\n",
    "\n",
    "One of the best things about data science is it's versatility. You can do a data science project on just about anything. For this project I decided to see if a machine learning model can identify the era in which a poem was written by it's word choice and frequency. If the era can be predicted, with what kind of accuracy? Also, are some eras more identifiable by style than others. These were the questions I sought to answer with this project. The model was able to differentiate between the different time periods and predict the poem's class with an 81% accuracy overall, with varying degrees of accuracy for specific classes. Going forward, I intend to engineer additional stylistic features related to word choice and frequency to make the model even more robust. \n",
    "#### Getting Data:\n",
    "The first step this project required was data collection. It's really nice to be handed a clean data set for a project, but life doesn't always work that way. Data collection can be quite challenging, but can also be quite fun. After searching fruitlessly for a corpus of poetry in a digital text format, there was no choice but to explore other options. Enter webscraping, a cool, fun, and exciting way to collect data. Webscraping is the process of pulling information from web pages, which often contain all their text in the HTML code which dictates the website's structure. Python, the language that I used for all of this analysis, has some packages that enable efficient webscraping. The code for my webscraper is available here: (scraping notebook)\n",
    "#### Data Cleaning:\n",
    "A large portion of this project involved the data cleaning process. Since I scraped the data from a website, I first had to remove all the HTML tags and ensure that the lines of the poem weren't pushed together, which would cause some word loss. \n",
    "\n",
    "When analyzing text, a lot of preprocessing is necessary. A computer doesn't read text the way we do, so it would treat 'Cookies' and 'cookies' as two different words. Generally, we convert all our entries to lowercase so that the computer can recognize them. I also had to remove all the punctuation and numbers. \n",
    "#### Classes:\n",
    "I settled on three different eras to model, the 18th, 19th, and 20th centuries. These are intuitive boundaries, and I was curious to discover if poetry style is significantly different on each side of these boundaries. \n",
    "#### Feature Creation and Modeling:\n",
    "There are a few different approaches for creating features from text. I used the most common one, a Count Vectorizer. This approach, sometimes called a 'bag of words,' creates a separate feature for each word that appears in the data set. Then, for each poem, it assigns a 1 to words that the poem contains, and a 0 to words that it doesn't. There are more complex approaches, but a simple Count Vectorizer worked best for my data. That makes sense, because a simple count of word usage and frequency may give a better representation of text style than more complex methods that aren't looking for style as much as content. \n",
    "\n",
    "I used a Multinomial Naive Bayes model to distinguish between and predict the classes. This model treats all the features as having a multinomial distribution and assumes independence of all the features. I ran many other models as well, and the Multinomial Naive Bayes consistently performed the best. This model comes with a great feature which returns the log probability of each feature belonging to each class. This gives us some insight into which words are most related to which classes. \n",
    "#### Results:\n",
    "The model performed well, giving an overall accuracy score of 81%, which means the model accurately predicted the era of 81% of the observations it had not before seen. This demonstrates the efficacy of this type of modeling in general, as well as the answers the question central to this project. A computer **CAN** differentiate between different poetry styles and predict the era of poems. The model performed best on the 18th century, correctly identifying 91% of observations. It did not perform as well for the 19th and 20th centuries, with 72% and 80% accuracy scores, respectively. Immediately below is an image showing the percentages of true predictions for each class, and the percentages which were misclassified. Further below I will elaborate on the scores for each class.)"
   ]
  },
  {
   "cell_type": "code",
   "execution_count": 1205,
   "metadata": {},
   "outputs": [
    {
     "data": {
      "text/html": [
       "<div>\n",
       "<style>\n",
       "    .dataframe thead tr:only-child th {\n",
       "        text-align: right;\n",
       "    }\n",
       "\n",
       "    .dataframe thead th {\n",
       "        text-align: left;\n",
       "    }\n",
       "\n",
       "    .dataframe tbody tr th {\n",
       "        vertical-align: top;\n",
       "    }\n",
       "</style>\n",
       "<table border=\"1\" class=\"dataframe\">\n",
       "  <thead>\n",
       "    <tr style=\"text-align: right;\">\n",
       "      <th></th>\n",
       "      <th>name</th>\n",
       "      <th>poem</th>\n",
       "      <th>num_poems</th>\n",
       "      <th>birth</th>\n",
       "      <th>death</th>\n",
       "    </tr>\n",
       "  </thead>\n",
       "  <tbody>\n",
       "    <tr>\n",
       "      <th>0</th>\n",
       "      <td>Rebecca Elson</td>\n",
       "      <td>we astronomers are nomads merchants circus peo...</td>\n",
       "      <td>2</td>\n",
       "      <td>1960</td>\n",
       "      <td>1999</td>\n",
       "    </tr>\n",
       "    <tr>\n",
       "      <th>1</th>\n",
       "      <td>Rebecca Elson</td>\n",
       "      <td>having picked the final datum from the univers...</td>\n",
       "      <td>2</td>\n",
       "      <td>1960</td>\n",
       "      <td>1999</td>\n",
       "    </tr>\n",
       "    <tr>\n",
       "      <th>2</th>\n",
       "      <td>James Thomson</td>\n",
       "      <td>shall the great soul of newton quit this earth...</td>\n",
       "      <td>10</td>\n",
       "      <td>1700</td>\n",
       "      <td>1748</td>\n",
       "    </tr>\n",
       "    <tr>\n",
       "      <th>3</th>\n",
       "      <td>James Thomson</td>\n",
       "      <td>see winter comes to rule the varied year  sull...</td>\n",
       "      <td>10</td>\n",
       "      <td>1700</td>\n",
       "      <td>1748</td>\n",
       "    </tr>\n",
       "    <tr>\n",
       "      <th>4</th>\n",
       "      <td>James Thomson</td>\n",
       "      <td>1 fareweel ye bughts an all your ewes  an fiel...</td>\n",
       "      <td>10</td>\n",
       "      <td>1700</td>\n",
       "      <td>1748</td>\n",
       "    </tr>\n",
       "  </tbody>\n",
       "</table>\n",
       "</div>"
      ],
      "text/plain": [
       "            name                                               poem  \\\n",
       "0  Rebecca Elson  we astronomers are nomads merchants circus peo...   \n",
       "1  Rebecca Elson  having picked the final datum from the univers...   \n",
       "2  James Thomson  shall the great soul of newton quit this earth...   \n",
       "3  James Thomson  see winter comes to rule the varied year  sull...   \n",
       "4  James Thomson  1 fareweel ye bughts an all your ewes  an fiel...   \n",
       "\n",
       "   num_poems  birth  death  \n",
       "0          2   1960   1999  \n",
       "1          2   1960   1999  \n",
       "2         10   1700   1748  \n",
       "3         10   1700   1748  \n",
       "4         10   1700   1748  "
      ]
     },
     "execution_count": 1205,
     "metadata": {},
     "output_type": "execute_result"
    }
   ],
   "source": [
    "df.poem = df.poem.apply(lambda x: x.translate(None, string.punctuation))\n",
    "df.head()"
   ]
  },
  {
   "cell_type": "code",
   "execution_count": 1206,
   "metadata": {},
   "outputs": [
    {
     "data": {
      "text/html": [
       "<div>\n",
       "<style>\n",
       "    .dataframe thead tr:only-child th {\n",
       "        text-align: right;\n",
       "    }\n",
       "\n",
       "    .dataframe thead th {\n",
       "        text-align: left;\n",
       "    }\n",
       "\n",
       "    .dataframe tbody tr th {\n",
       "        vertical-align: top;\n",
       "    }\n",
       "</style>\n",
       "<table border=\"1\" class=\"dataframe\">\n",
       "  <thead>\n",
       "    <tr style=\"text-align: right;\">\n",
       "      <th></th>\n",
       "      <th>name</th>\n",
       "      <th>poem</th>\n",
       "      <th>num_poems</th>\n",
       "      <th>birth</th>\n",
       "      <th>death</th>\n",
       "    </tr>\n",
       "  </thead>\n",
       "  <tbody>\n",
       "    <tr>\n",
       "      <th>0</th>\n",
       "      <td>Rebecca Elson</td>\n",
       "      <td>we astronomers are nomads merchants circus peo...</td>\n",
       "      <td>2</td>\n",
       "      <td>1960</td>\n",
       "      <td>1999</td>\n",
       "    </tr>\n",
       "    <tr>\n",
       "      <th>1</th>\n",
       "      <td>Rebecca Elson</td>\n",
       "      <td>having picked the final datum from the univers...</td>\n",
       "      <td>2</td>\n",
       "      <td>1960</td>\n",
       "      <td>1999</td>\n",
       "    </tr>\n",
       "    <tr>\n",
       "      <th>2</th>\n",
       "      <td>James Thomson</td>\n",
       "      <td>shall the great soul of newton quit this earth...</td>\n",
       "      <td>10</td>\n",
       "      <td>1700</td>\n",
       "      <td>1748</td>\n",
       "    </tr>\n",
       "    <tr>\n",
       "      <th>3</th>\n",
       "      <td>James Thomson</td>\n",
       "      <td>see winter comes to rule the varied year  sull...</td>\n",
       "      <td>10</td>\n",
       "      <td>1700</td>\n",
       "      <td>1748</td>\n",
       "    </tr>\n",
       "    <tr>\n",
       "      <th>4</th>\n",
       "      <td>James Thomson</td>\n",
       "      <td>fareweel ye bughts an all your ewes  an field...</td>\n",
       "      <td>10</td>\n",
       "      <td>1700</td>\n",
       "      <td>1748</td>\n",
       "    </tr>\n",
       "  </tbody>\n",
       "</table>\n",
       "</div>"
      ],
      "text/plain": [
       "            name                                               poem  \\\n",
       "0  Rebecca Elson  we astronomers are nomads merchants circus peo...   \n",
       "1  Rebecca Elson  having picked the final datum from the univers...   \n",
       "2  James Thomson  shall the great soul of newton quit this earth...   \n",
       "3  James Thomson  see winter comes to rule the varied year  sull...   \n",
       "4  James Thomson   fareweel ye bughts an all your ewes  an field...   \n",
       "\n",
       "   num_poems  birth  death  \n",
       "0          2   1960   1999  \n",
       "1          2   1960   1999  \n",
       "2         10   1700   1748  \n",
       "3         10   1700   1748  \n",
       "4         10   1700   1748  "
      ]
     },
     "execution_count": 1206,
     "metadata": {},
     "output_type": "execute_result"
    }
   ],
   "source": [
    "df.poem = df.poem.apply(lambda x: x.translate(None, string.digits))\n",
    "df.head()"
   ]
  },
  {
   "cell_type": "code",
   "execution_count": 1207,
   "metadata": {
    "collapsed": true
   },
   "outputs": [],
   "source": [
    "df.poem  = [re.sub('[^A-Za-z ]+', '', x) for x in df.poem]"
   ]
  },
  {
   "cell_type": "code",
   "execution_count": 1208,
   "metadata": {},
   "outputs": [
    {
     "data": {
      "text/html": [
       "<div>\n",
       "<style>\n",
       "    .dataframe thead tr:only-child th {\n",
       "        text-align: right;\n",
       "    }\n",
       "\n",
       "    .dataframe thead th {\n",
       "        text-align: left;\n",
       "    }\n",
       "\n",
       "    .dataframe tbody tr th {\n",
       "        vertical-align: top;\n",
       "    }\n",
       "</style>\n",
       "<table border=\"1\" class=\"dataframe\">\n",
       "  <thead>\n",
       "    <tr style=\"text-align: right;\">\n",
       "      <th></th>\n",
       "      <th>name</th>\n",
       "      <th>poem</th>\n",
       "      <th>num_poems</th>\n",
       "      <th>birth</th>\n",
       "      <th>death</th>\n",
       "    </tr>\n",
       "  </thead>\n",
       "  <tbody>\n",
       "    <tr>\n",
       "      <th>0</th>\n",
       "      <td>Rebecca Elson</td>\n",
       "      <td>we astronomers are nomads merchants circus peo...</td>\n",
       "      <td>2</td>\n",
       "      <td>1960</td>\n",
       "      <td>1999</td>\n",
       "    </tr>\n",
       "    <tr>\n",
       "      <th>1</th>\n",
       "      <td>Rebecca Elson</td>\n",
       "      <td>having picked the final datum from the univers...</td>\n",
       "      <td>2</td>\n",
       "      <td>1960</td>\n",
       "      <td>1999</td>\n",
       "    </tr>\n",
       "    <tr>\n",
       "      <th>2</th>\n",
       "      <td>James Thomson</td>\n",
       "      <td>shall the great soul of newton quit this earth...</td>\n",
       "      <td>10</td>\n",
       "      <td>1700</td>\n",
       "      <td>1748</td>\n",
       "    </tr>\n",
       "    <tr>\n",
       "      <th>3</th>\n",
       "      <td>James Thomson</td>\n",
       "      <td>see winter comes to rule the varied year  sull...</td>\n",
       "      <td>10</td>\n",
       "      <td>1700</td>\n",
       "      <td>1748</td>\n",
       "    </tr>\n",
       "    <tr>\n",
       "      <th>4</th>\n",
       "      <td>James Thomson</td>\n",
       "      <td>fareweel ye bughts an all your ewes  an field...</td>\n",
       "      <td>10</td>\n",
       "      <td>1700</td>\n",
       "      <td>1748</td>\n",
       "    </tr>\n",
       "  </tbody>\n",
       "</table>\n",
       "</div>"
      ],
      "text/plain": [
       "            name                                               poem  \\\n",
       "0  Rebecca Elson  we astronomers are nomads merchants circus peo...   \n",
       "1  Rebecca Elson  having picked the final datum from the univers...   \n",
       "2  James Thomson  shall the great soul of newton quit this earth...   \n",
       "3  James Thomson  see winter comes to rule the varied year  sull...   \n",
       "4  James Thomson   fareweel ye bughts an all your ewes  an field...   \n",
       "\n",
       "   num_poems  birth  death  \n",
       "0          2   1960   1999  \n",
       "1          2   1960   1999  \n",
       "2         10   1700   1748  \n",
       "3         10   1700   1748  \n",
       "4         10   1700   1748  "
      ]
     },
     "execution_count": 1208,
     "metadata": {},
     "output_type": "execute_result"
    }
   ],
   "source": [
    "df.head()"
   ]
  },
  {
   "cell_type": "code",
   "execution_count": 1209,
   "metadata": {
    "collapsed": true
   },
   "outputs": [],
   "source": [
    "df.reset_index(drop=True, inplace=True)"
   ]
  },
  {
   "cell_type": "code",
   "execution_count": 1210,
   "metadata": {
    "collapsed": true
   },
   "outputs": [],
   "source": [
    "def epoch(df):\n",
    "    if df['death'] < 1800:\n",
    "        return 1\n",
    "    elif (df['death'] >= 1800) & (df['death'] < 1850):\n",
    "        return 2\n",
    "    elif (df['death'] >= 1850) & (df['death'] < 1900):\n",
    "        return 3\n",
    "    else:\n",
    "        return 4"
   ]
  },
  {
   "cell_type": "code",
   "execution_count": 1211,
   "metadata": {},
   "outputs": [
    {
     "data": {
      "text/html": [
       "<div>\n",
       "<style>\n",
       "    .dataframe thead tr:only-child th {\n",
       "        text-align: right;\n",
       "    }\n",
       "\n",
       "    .dataframe thead th {\n",
       "        text-align: left;\n",
       "    }\n",
       "\n",
       "    .dataframe tbody tr th {\n",
       "        vertical-align: top;\n",
       "    }\n",
       "</style>\n",
       "<table border=\"1\" class=\"dataframe\">\n",
       "  <thead>\n",
       "    <tr style=\"text-align: right;\">\n",
       "      <th></th>\n",
       "      <th>name</th>\n",
       "      <th>poem</th>\n",
       "      <th>num_poems</th>\n",
       "      <th>birth</th>\n",
       "      <th>death</th>\n",
       "      <th>epoch</th>\n",
       "    </tr>\n",
       "  </thead>\n",
       "  <tbody>\n",
       "    <tr>\n",
       "      <th>0</th>\n",
       "      <td>Rebecca Elson</td>\n",
       "      <td>we astronomers are nomads merchants circus peo...</td>\n",
       "      <td>2</td>\n",
       "      <td>1960</td>\n",
       "      <td>1999</td>\n",
       "      <td>4</td>\n",
       "    </tr>\n",
       "    <tr>\n",
       "      <th>1</th>\n",
       "      <td>Rebecca Elson</td>\n",
       "      <td>having picked the final datum from the univers...</td>\n",
       "      <td>2</td>\n",
       "      <td>1960</td>\n",
       "      <td>1999</td>\n",
       "      <td>4</td>\n",
       "    </tr>\n",
       "    <tr>\n",
       "      <th>2</th>\n",
       "      <td>James Thomson</td>\n",
       "      <td>shall the great soul of newton quit this earth...</td>\n",
       "      <td>10</td>\n",
       "      <td>1700</td>\n",
       "      <td>1748</td>\n",
       "      <td>1</td>\n",
       "    </tr>\n",
       "    <tr>\n",
       "      <th>3</th>\n",
       "      <td>James Thomson</td>\n",
       "      <td>see winter comes to rule the varied year  sull...</td>\n",
       "      <td>10</td>\n",
       "      <td>1700</td>\n",
       "      <td>1748</td>\n",
       "      <td>1</td>\n",
       "    </tr>\n",
       "    <tr>\n",
       "      <th>4</th>\n",
       "      <td>James Thomson</td>\n",
       "      <td>fareweel ye bughts an all your ewes  an field...</td>\n",
       "      <td>10</td>\n",
       "      <td>1700</td>\n",
       "      <td>1748</td>\n",
       "      <td>1</td>\n",
       "    </tr>\n",
       "  </tbody>\n",
       "</table>\n",
       "</div>"
      ],
      "text/plain": [
       "            name                                               poem  \\\n",
       "0  Rebecca Elson  we astronomers are nomads merchants circus peo...   \n",
       "1  Rebecca Elson  having picked the final datum from the univers...   \n",
       "2  James Thomson  shall the great soul of newton quit this earth...   \n",
       "3  James Thomson  see winter comes to rule the varied year  sull...   \n",
       "4  James Thomson   fareweel ye bughts an all your ewes  an field...   \n",
       "\n",
       "   num_poems  birth  death  epoch  \n",
       "0          2   1960   1999      4  \n",
       "1          2   1960   1999      4  \n",
       "2         10   1700   1748      1  \n",
       "3         10   1700   1748      1  \n",
       "4         10   1700   1748      1  "
      ]
     },
     "execution_count": 1211,
     "metadata": {},
     "output_type": "execute_result"
    }
   ],
   "source": [
    "df['epoch'] = df.apply(epoch, axis=1)\n",
    "df.head()"
   ]
  },
  {
   "cell_type": "code",
   "execution_count": 1212,
   "metadata": {
    "collapsed": true
   },
   "outputs": [],
   "source": [
    "df.to_csv('cleaned_df_with_epoch.csv', index=False)"
   ]
  },
  {
   "cell_type": "code",
   "execution_count": 1213,
   "metadata": {},
   "outputs": [
    {
     "data": {
      "text/plain": [
       "(19744, 6)"
      ]
     },
     "execution_count": 1213,
     "metadata": {},
     "output_type": "execute_result"
    }
   ],
   "source": [
    "df.shape"
   ]
  },
  {
   "cell_type": "markdown",
   "metadata": {},
   "source": [
    "Below I've created df's based on the year of death."
   ]
  },
  {
   "cell_type": "code",
   "execution_count": 437,
   "metadata": {
    "collapsed": true,
    "scrolled": true
   },
   "outputs": [],
   "source": [
    "df_1 = df[df.death < 1800]"
   ]
  },
  {
   "cell_type": "code",
   "execution_count": 438,
   "metadata": {
    "collapsed": true
   },
   "outputs": [],
   "source": [
    "df_2 = df[(df.death >= 1800) & (df.death < 1850)]"
   ]
  },
  {
   "cell_type": "code",
   "execution_count": 439,
   "metadata": {
    "collapsed": true
   },
   "outputs": [],
   "source": [
    "df_3 = df[(df.death >= 1850) & (df.death < 1900)][::3]"
   ]
  },
  {
   "cell_type": "code",
   "execution_count": 440,
   "metadata": {
    "collapsed": true
   },
   "outputs": [],
   "source": [
    "df_4 = df[df.death >= 1900][::9]"
   ]
  },
  {
   "cell_type": "code",
   "execution_count": 441,
   "metadata": {},
   "outputs": [
    {
     "name": "stdout",
     "output_type": "stream",
     "text": [
      "(1349, 6)\n",
      "(1471, 6)\n",
      "(1413, 6)\n",
      "(1410, 6)\n"
     ]
    }
   ],
   "source": [
    "print df_1.shape\n",
    "print df_2.shape\n",
    "print df_3.shape\n",
    "print df_4.shape"
   ]
  },
  {
   "cell_type": "code",
   "execution_count": 453,
   "metadata": {
    "collapsed": true
   },
   "outputs": [],
   "source": [
    "df_model = pd.concat([df_1, df_2, df_3, df_4], axis=0)"
   ]
  },
  {
   "cell_type": "code",
   "execution_count": 454,
   "metadata": {},
   "outputs": [
    {
     "data": {
      "text/html": [
       "<div>\n",
       "<style>\n",
       "    .dataframe thead tr:only-child th {\n",
       "        text-align: right;\n",
       "    }\n",
       "\n",
       "    .dataframe thead th {\n",
       "        text-align: left;\n",
       "    }\n",
       "\n",
       "    .dataframe tbody tr th {\n",
       "        vertical-align: top;\n",
       "    }\n",
       "</style>\n",
       "<table border=\"1\" class=\"dataframe\">\n",
       "  <thead>\n",
       "    <tr style=\"text-align: right;\">\n",
       "      <th></th>\n",
       "      <th>name</th>\n",
       "      <th>poem</th>\n",
       "      <th>num_poems</th>\n",
       "      <th>birth</th>\n",
       "      <th>death</th>\n",
       "      <th>epoch</th>\n",
       "    </tr>\n",
       "  </thead>\n",
       "  <tbody>\n",
       "    <tr>\n",
       "      <th>0</th>\n",
       "      <td>James Thomson</td>\n",
       "      <td>shall the great soul of newton quit this earth...</td>\n",
       "      <td>10</td>\n",
       "      <td>1700</td>\n",
       "      <td>1748</td>\n",
       "      <td>1</td>\n",
       "    </tr>\n",
       "    <tr>\n",
       "      <th>1</th>\n",
       "      <td>James Thomson</td>\n",
       "      <td>see winter comes to rule the varied year  sull...</td>\n",
       "      <td>10</td>\n",
       "      <td>1700</td>\n",
       "      <td>1748</td>\n",
       "      <td>1</td>\n",
       "    </tr>\n",
       "    <tr>\n",
       "      <th>2</th>\n",
       "      <td>James Thomson</td>\n",
       "      <td>fareweel ye bughts an all your ewes  an field...</td>\n",
       "      <td>10</td>\n",
       "      <td>1700</td>\n",
       "      <td>1748</td>\n",
       "      <td>1</td>\n",
       "    </tr>\n",
       "    <tr>\n",
       "      <th>3</th>\n",
       "      <td>James Thomson</td>\n",
       "      <td>give a man a horse he can ride     give a man ...</td>\n",
       "      <td>10</td>\n",
       "      <td>1700</td>\n",
       "      <td>1748</td>\n",
       "      <td>1</td>\n",
       "    </tr>\n",
       "    <tr>\n",
       "      <th>4</th>\n",
       "      <td>James Thomson</td>\n",
       "      <td>sweet ravelrig i neer could part  from thee bu...</td>\n",
       "      <td>10</td>\n",
       "      <td>1700</td>\n",
       "      <td>1748</td>\n",
       "      <td>1</td>\n",
       "    </tr>\n",
       "  </tbody>\n",
       "</table>\n",
       "</div>"
      ],
      "text/plain": [
       "            name                                               poem  \\\n",
       "0  James Thomson  shall the great soul of newton quit this earth...   \n",
       "1  James Thomson  see winter comes to rule the varied year  sull...   \n",
       "2  James Thomson   fareweel ye bughts an all your ewes  an field...   \n",
       "3  James Thomson  give a man a horse he can ride     give a man ...   \n",
       "4  James Thomson  sweet ravelrig i neer could part  from thee bu...   \n",
       "\n",
       "   num_poems  birth  death  epoch  \n",
       "0         10   1700   1748      1  \n",
       "1         10   1700   1748      1  \n",
       "2         10   1700   1748      1  \n",
       "3         10   1700   1748      1  \n",
       "4         10   1700   1748      1  "
      ]
     },
     "execution_count": 454,
     "metadata": {},
     "output_type": "execute_result"
    }
   ],
   "source": [
    "df_model.reset_index(inplace=True, drop=True)\n",
    "df_model.head()"
   ]
  },
  {
   "cell_type": "code",
   "execution_count": 477,
   "metadata": {
    "collapsed": true
   },
   "outputs": [],
   "source": [
    "X = df_model.poem\n",
    "y = df_model.epoch"
   ]
  },
  {
   "cell_type": "code",
   "execution_count": 876,
   "metadata": {
    "collapsed": true
   },
   "outputs": [],
   "source": [
    "from sklearn.model_selection import train_test_split, cross_val_score\n",
    "from sklearn.feature_extraction.text import CountVectorizer, TfidfVectorizer\n",
    "from sklearn.feature_selection import SelectKBest, chi2"
   ]
  },
  {
   "cell_type": "markdown",
   "metadata": {},
   "source": [
    "poem classes:\n",
    "1 = 1700-1800\n",
    "2 = 1800-1850\n",
    "3 = 1850-1900\n",
    "4 = 1900"
   ]
  },
  {
   "cell_type": "code",
   "execution_count": 1118,
   "metadata": {
    "collapsed": true
   },
   "outputs": [],
   "source": [
    "X_train, X_test, y_train, y_test = train_test_split(X, y, random_state=42, test_size=0.3)"
   ]
  },
  {
   "cell_type": "code",
   "execution_count": 1119,
   "metadata": {
    "collapsed": true
   },
   "outputs": [],
   "source": [
    "cvt = CountVectorizer(max_features=12000)"
   ]
  },
  {
   "cell_type": "code",
   "execution_count": 1120,
   "metadata": {
    "collapsed": true
   },
   "outputs": [],
   "source": [
    "X_train = pd.DataFrame(cvt.fit_transform(X_train).todense(), columns=cvt.get_feature_names())\n",
    "X_test = pd.DataFrame(cvt.transform(X_test).todense(), columns=cvt.get_feature_names())\n",
    "X_train.rename(columns={'fit':'fit_feature'}, inplace=True);\n",
    "X_test.rename(columns={'fit':'fit_feature'}, inplace=True);"
   ]
  },
  {
   "cell_type": "code",
   "execution_count": 1130,
   "metadata": {},
   "outputs": [
    {
     "name": "stdout",
     "output_type": "stream",
     "text": [
      "(3950, 12000)\n",
      "(3950,)\n"
     ]
    }
   ],
   "source": [
    "print X_train.shape\n",
    "print y_train.shape"
   ]
  },
  {
   "cell_type": "code",
   "execution_count": 1122,
   "metadata": {
    "collapsed": true
   },
   "outputs": [],
   "source": [
    "ch2 = SelectKBest(chi2, k=11000)"
   ]
  },
  {
   "cell_type": "code",
   "execution_count": 1123,
   "metadata": {
    "collapsed": true
   },
   "outputs": [],
   "source": [
    "X_train_ch = ch2.fit_transform(X_train, y_train)\n",
    "X_test_ch = ch2.transform(X_test)"
   ]
  },
  {
   "cell_type": "code",
   "execution_count": 1124,
   "metadata": {},
   "outputs": [
    {
     "data": {
      "text/plain": [
       "0.73419964559952744"
      ]
     },
     "execution_count": 1124,
     "metadata": {},
     "output_type": "execute_result"
    }
   ],
   "source": [
    "nb.fit(X_train_ch, y_train)\n",
    "nb.score(X_test_ch, y_test)"
   ]
  },
  {
   "cell_type": "code",
   "execution_count": 1126,
   "metadata": {
    "collapsed": true
   },
   "outputs": [],
   "source": [
    "preds = nb.predict(X_test_ch)"
   ]
  },
  {
   "cell_type": "code",
   "execution_count": 1131,
   "metadata": {
    "collapsed": true
   },
   "outputs": [],
   "source": [
    "from sklearn.metrics import confusion_matrix\n",
    "import matplotlib.pyplot as plt\n",
    "import itertools"
   ]
  },
  {
   "cell_type": "code",
   "execution_count": 1135,
   "metadata": {
    "collapsed": true
   },
   "outputs": [],
   "source": [
    "def plot_confusion_matrix(cm, classes,\n",
    "                          normalize=False,\n",
    "                          title='Confusion matrix',\n",
    "                          cmap=plt.cm.Blues):\n",
    "    \"\"\"\n",
    "    This function prints and plots the confusion matrix.\n",
    "    Normalization can be applied by setting `normalize=True`.\n",
    "    \"\"\"\n",
    "    if normalize:\n",
    "        cm = cm.astype('float') / cm.sum(axis=1)[:, np.newaxis]\n",
    "        print(\"Normalized confusion matrix\")\n",
    "    else:\n",
    "        print('Confusion matrix, without normalization')\n",
    "\n",
    "    print(cm)\n",
    "\n",
    "    plt.imshow(cm, interpolation='nearest', cmap=cmap)\n",
    "    plt.title(title)\n",
    "    plt.colorbar()\n",
    "    tick_marks = np.arange(len(classes))\n",
    "    plt.xticks(tick_marks, classes, rotation=45)\n",
    "    plt.yticks(tick_marks, classes)\n",
    "\n",
    "    fmt = '.2f' if normalize else 'd'\n",
    "    thresh = cm.max() / 2.\n",
    "    for i, j in itertools.product(range(cm.shape[0]), range(cm.shape[1])):\n",
    "        plt.text(j, i, format(cm[i, j], fmt),\n",
    "                 horizontalalignment=\"center\",\n",
    "                 color=\"white\" if cm[i, j] > thresh else \"black\")\n",
    "\n",
    "    plt.tight_layout()\n",
    "    plt.ylabel('True label')\n",
    "    plt.xlabel('Predicted label')"
   ]
  },
  {
   "cell_type": "code",
   "execution_count": 1214,
   "metadata": {},
   "outputs": [
    {
     "name": "stdout",
     "output_type": "stream",
     "text": [
      "Confusion matrix, without normalization\n",
      "[[373  41   4  22]\n",
      " [ 29 334  35  34]\n",
      " [ 12  76 218  98]\n",
      " [  2  35  62 318]]\n"
     ]
    },
    {
     "data": {
      "image/png": "[encoded data removed]",
      "text/plain": [
       "<matplotlib.figure.Figure at 0x172013e50>"
      ]
     },
     "metadata": {},
     "output_type": "display_data"
    }
   ],
   "source": [
    "cnf_matrix = confusion_matrix(y_test, preds)\n",
    "np.set_printoptions(precision=2)\n",
    "\n",
    "# Plot non-normalized confusion matrix\n",
    "plt.figure()\n",
    "plot_confusion_matrix(cnf_matrix, classes=[1, 2, 3, 4],\n",
    "                      title='Confusion matrix, without normalization')\n",
    "plt.show()"
   ]
  },
  {
   "cell_type": "code",
   "execution_count": 1128,
   "metadata": {},
   "outputs": [
    {
     "data": {
      "text/plain": [
       "array([[373,  41,   4,  22],\n",
       "       [ 29, 334,  35,  34],\n",
       "       [ 12,  76, 218,  98],\n",
       "       [  2,  35,  62, 318]])"
      ]
     },
     "execution_count": 1128,
     "metadata": {},
     "output_type": "execute_result"
    }
   ],
   "source": [
    "confusion_matrix(y_test, preds)"
   ]
  },
  {
   "cell_type": "markdown",
   "metadata": {},
   "source": [
    "TFidf"
   ]
  },
  {
   "cell_type": "code",
   "execution_count": 1045,
   "metadata": {
    "collapsed": true
   },
   "outputs": [],
   "source": [
    "X_train, X_test, y_train, y_test = train_test_split(X, y, random_state=42, test_size=0.3)"
   ]
  },
  {
   "cell_type": "code",
   "execution_count": 1046,
   "metadata": {
    "collapsed": true
   },
   "outputs": [],
   "source": [
    "tfidf = TfidfVectorizer(max_features=4000)"
   ]
  },
  {
   "cell_type": "code",
   "execution_count": 1047,
   "metadata": {
    "collapsed": true
   },
   "outputs": [],
   "source": [
    "X_train = pd.DataFrame(tfidf.fit_transform(X_train).todense(), columns=tfidf.get_feature_names())\n",
    "X_test = pd.DataFrame(tfidf.transform(X_test).todense(), columns=tfidf.get_feature_names())\n",
    "X_train.rename(columns={'fit':'fit_feature'}, inplace=True);\n",
    "X_test.rename(columns={'fit':'fit_feature'}, inplace=True);"
   ]
  },
  {
   "cell_type": "code",
   "execution_count": 1048,
   "metadata": {
    "collapsed": true
   },
   "outputs": [],
   "source": [
    "ch2 = SelectKBest(chi2, k=3000)\n",
    "X_train = ch2.fit_transform(X_train, y_train)\n",
    "X_test = ch2.transform(X_test)"
   ]
  },
  {
   "cell_type": "code",
   "execution_count": 1049,
   "metadata": {},
   "outputs": [
    {
     "name": "stdout",
     "output_type": "stream",
     "text": [
      "(3950, 3000)\n",
      "(3950,)\n"
     ]
    }
   ],
   "source": [
    "print X_train.shape\n",
    "print y_train.shape"
   ]
  },
  {
   "cell_type": "markdown",
   "metadata": {},
   "source": [
    "MultinomialNB"
   ]
  },
  {
   "cell_type": "code",
   "execution_count": 1050,
   "metadata": {
    "collapsed": true
   },
   "outputs": [],
   "source": [
    "# from sklearn.naive_bayes import MultinomialNB\n",
    "# nb = MultinomialNB()\n",
    "# cross_val_score(nb, X_train, y_train, cv=10)"
   ]
  },
  {
   "cell_type": "code",
   "execution_count": 1051,
   "metadata": {},
   "outputs": [
    {
     "data": {
      "text/plain": [
       "0.71352628470171298"
      ]
     },
     "execution_count": 1051,
     "metadata": {},
     "output_type": "execute_result"
    }
   ],
   "source": [
    "nb.fit(X_train, y_train)\n",
    "nb.score(X_test, y_test)"
   ]
  },
  {
   "cell_type": "markdown",
   "metadata": {},
   "source": [
    "GaussianNB"
   ]
  },
  {
   "cell_type": "code",
   "execution_count": 654,
   "metadata": {},
   "outputs": [
    {
     "data": {
      "text/plain": [
       "array([ 0.56818182,  0.58838384,  0.62121212,  0.57468354,  0.59746835,\n",
       "        0.55696203,  0.63037975,  0.57721519,  0.58227848,  0.59438776])"
      ]
     },
     "execution_count": 654,
     "metadata": {},
     "output_type": "execute_result"
    }
   ],
   "source": [
    "from sklearn.naive_bayes import GaussianNB\n",
    "gnb = GaussianNB()\n",
    "cross_val_score(gnb, X_train, y_train, cv=10)"
   ]
  },
  {
   "cell_type": "code",
   "execution_count": 655,
   "metadata": {},
   "outputs": [
    {
     "data": {
      "text/plain": [
       "0.61193148257531005"
      ]
     },
     "execution_count": 655,
     "metadata": {},
     "output_type": "execute_result"
    }
   ],
   "source": [
    "gnb.fit(X_train, y_train)\n",
    "gnb.score(X_test, y_test)"
   ]
  },
  {
   "cell_type": "markdown",
   "metadata": {},
   "source": [
    "BernoulliNB"
   ]
  },
  {
   "cell_type": "code",
   "execution_count": 658,
   "metadata": {},
   "outputs": [
    {
     "data": {
      "text/plain": [
       "array([ 0.56565657,  0.59848485,  0.57323232,  0.57721519,  0.60506329,\n",
       "        0.57974684,  0.61518987,  0.5721519 ,  0.58987342,  0.57142857])"
      ]
     },
     "execution_count": 658,
     "metadata": {},
     "output_type": "execute_result"
    }
   ],
   "source": [
    "from sklearn.naive_bayes import BernoulliNB\n",
    "bnb = BernoulliNB()\n",
    "cross_val_score(bnb, X_train, y_train, cv=10)"
   ]
  },
  {
   "cell_type": "code",
   "execution_count": 659,
   "metadata": {},
   "outputs": [
    {
     "data": {
      "text/plain": [
       "0.59362079149438862"
      ]
     },
     "execution_count": 659,
     "metadata": {},
     "output_type": "execute_result"
    }
   ],
   "source": [
    "bnb.fit(X_train, y_train)\n",
    "bnb.score(X_test, y_test)"
   ]
  },
  {
   "cell_type": "markdown",
   "metadata": {},
   "source": [
    "LinearSVC"
   ]
  },
  {
   "cell_type": "code",
   "execution_count": 625,
   "metadata": {
    "collapsed": true
   },
   "outputs": [],
   "source": [
    "from sklearn.svm import LinearSVC, SVC\n",
    "lsvm = LinearSVC()\n",
    "cross_val_score(lsvm, X_train, y_train, cv=10)"
   ]
  },
  {
   "cell_type": "code",
   "execution_count": 653,
   "metadata": {},
   "outputs": [
    {
     "data": {
      "text/plain": [
       "0.69049025398700536"
      ]
     },
     "execution_count": 653,
     "metadata": {},
     "output_type": "execute_result"
    }
   ],
   "source": [
    "lsvm.fit(X_train, y_train)\n",
    "lsvm.score(X_test, y_test)"
   ]
  },
  {
   "cell_type": "markdown",
   "metadata": {},
   "source": [
    "RandomForestClassifier"
   ]
  },
  {
   "cell_type": "code",
   "execution_count": 1219,
   "metadata": {
    "collapsed": true
   },
   "outputs": [],
   "source": [
    "from sklearn.ensemble import RandomForestClassifier\n",
    "rf = RandomForestClassifier(n_estimators=100)\n",
    "#cross_val_score(rf, X_train, y_train, cv=10)"
   ]
  },
  {
   "cell_type": "code",
   "execution_count": 1220,
   "metadata": {},
   "outputs": [
    {
     "data": {
      "text/plain": [
       "0.67808623744831664"
      ]
     },
     "execution_count": 1220,
     "metadata": {},
     "output_type": "execute_result"
    }
   ],
   "source": [
    "rf = RandomForestClassifier(n_estimators=100, max_depth=200)\n",
    "rf.fit(X_train, y_train)\n",
    "rf.score(X_test, y_test)"
   ]
  },
  {
   "cell_type": "code",
   "execution_count": 1222,
   "metadata": {},
   "outputs": [
    {
     "data": {
      "text/html": [
       "<div>\n",
       "<style>\n",
       "    .dataframe thead tr:only-child th {\n",
       "        text-align: right;\n",
       "    }\n",
       "\n",
       "    .dataframe thead th {\n",
       "        text-align: left;\n",
       "    }\n",
       "\n",
       "    .dataframe tbody tr th {\n",
       "        vertical-align: top;\n",
       "    }\n",
       "</style>\n",
       "<table border=\"1\" class=\"dataframe\">\n",
       "  <thead>\n",
       "    <tr style=\"text-align: right;\">\n",
       "      <th></th>\n",
       "      <th>importance</th>\n",
       "    </tr>\n",
       "  </thead>\n",
       "  <tbody>\n",
       "    <tr>\n",
       "      <th>the</th>\n",
       "      <td>0.007238</td>\n",
       "    </tr>\n",
       "    <tr>\n",
       "      <th>and</th>\n",
       "      <td>0.007110</td>\n",
       "    </tr>\n",
       "    <tr>\n",
       "      <th>thou</th>\n",
       "      <td>0.006889</td>\n",
       "    </tr>\n",
       "    <tr>\n",
       "      <th>thy</th>\n",
       "      <td>0.006603</td>\n",
       "    </tr>\n",
       "    <tr>\n",
       "      <th>of</th>\n",
       "      <td>0.006412</td>\n",
       "    </tr>\n",
       "    <tr>\n",
       "      <th>lord</th>\n",
       "      <td>0.005906</td>\n",
       "    </tr>\n",
       "    <tr>\n",
       "      <th>you</th>\n",
       "      <td>0.005662</td>\n",
       "    </tr>\n",
       "    <tr>\n",
       "      <th>in</th>\n",
       "      <td>0.005033</td>\n",
       "    </tr>\n",
       "    <tr>\n",
       "      <th>thee</th>\n",
       "      <td>0.004743</td>\n",
       "    </tr>\n",
       "    <tr>\n",
       "      <th>grace</th>\n",
       "      <td>0.004686</td>\n",
       "    </tr>\n",
       "    <tr>\n",
       "      <th>my</th>\n",
       "      <td>0.004526</td>\n",
       "    </tr>\n",
       "    <tr>\n",
       "      <th>to</th>\n",
       "      <td>0.004328</td>\n",
       "    </tr>\n",
       "    <tr>\n",
       "      <th>wi</th>\n",
       "      <td>0.004111</td>\n",
       "    </tr>\n",
       "    <tr>\n",
       "      <th>ye</th>\n",
       "      <td>0.003679</td>\n",
       "    </tr>\n",
       "    <tr>\n",
       "      <th>with</th>\n",
       "      <td>0.003626</td>\n",
       "    </tr>\n",
       "    <tr>\n",
       "      <th>heavnly</th>\n",
       "      <td>0.003500</td>\n",
       "    </tr>\n",
       "    <tr>\n",
       "      <th>his</th>\n",
       "      <td>0.003435</td>\n",
       "    </tr>\n",
       "    <tr>\n",
       "      <th>oer</th>\n",
       "      <td>0.003323</td>\n",
       "    </tr>\n",
       "    <tr>\n",
       "      <th>it</th>\n",
       "      <td>0.003301</td>\n",
       "    </tr>\n",
       "    <tr>\n",
       "      <th>sae</th>\n",
       "      <td>0.003285</td>\n",
       "    </tr>\n",
       "  </tbody>\n",
       "</table>\n",
       "</div>"
      ],
      "text/plain": [
       "         importance\n",
       "the        0.007238\n",
       "and        0.007110\n",
       "thou       0.006889\n",
       "thy        0.006603\n",
       "of         0.006412\n",
       "lord       0.005906\n",
       "you        0.005662\n",
       "in         0.005033\n",
       "thee       0.004743\n",
       "grace      0.004686\n",
       "my         0.004526\n",
       "to         0.004328\n",
       "wi         0.004111\n",
       "ye         0.003679\n",
       "with       0.003626\n",
       "heavnly    0.003500\n",
       "his        0.003435\n",
       "oer        0.003323\n",
       "it         0.003301\n",
       "sae        0.003285"
      ]
     },
     "execution_count": 1222,
     "metadata": {},
     "output_type": "execute_result"
    }
   ],
   "source": [
    "feature_importances = pd.DataFrame(rf.feature_importances_,\n",
    "                                   index = X_train.columns,\n",
    "                                    columns=['importance']).sort_values('importance',\n",
    "                                                                        ascending=False)\n",
    "feature_importances.head(20)"
   ]
  },
  {
   "cell_type": "markdown",
   "metadata": {},
   "source": [
    "\n",
    "Xgboost"
   ]
  },
  {
   "cell_type": "code",
   "execution_count": 678,
   "metadata": {
    "collapsed": true
   },
   "outputs": [],
   "source": [
    "from xgboost import XGBClassifier\n",
    "xgb = XGBClassifier(objective='multi:softmax', num_class=4, max_depth=5)\n",
    "#cross_val_score(xgb, X_train, y_train, cv=10)"
   ]
  },
  {
   "cell_type": "code",
   "execution_count": null,
   "metadata": {
    "collapsed": true,
    "scrolled": true
   },
   "outputs": [],
   "source": [
    "xgb.fit(X_train, y_train)\n",
    "xgb.score(X_test, y_test)"
   ]
  },
  {
   "cell_type": "code",
   "execution_count": null,
   "metadata": {
    "collapsed": true
   },
   "outputs": [],
   "source": []
  }
 ],
 "metadata": {
  "kernelspec": {
   "display_name": "Python 2",
   "language": "python",
   "name": "python2"
  },
  "language_info": {
   "codemirror_mode": {
    "name": "ipython",
    "version": 2
   },
   "file_extension": ".py",
   "mimetype": "text/x-python",
   "name": "python",
   "nbconvert_exporter": "python",
   "pygments_lexer": "ipython2",
   "version": "2.7.13"
  }
 },
 "nbformat": 4,
 "nbformat_minor": 2
}
